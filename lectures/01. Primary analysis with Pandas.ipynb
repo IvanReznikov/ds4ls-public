{
 "cells": [
  {
   "attachments": {
    "T1Hep.png": {
     "image/png": "[encoded data removed]"
    }
   },
   "cell_type": "markdown",
   "metadata": {},
   "source": [
    "   # Topic 1. Primary data analysis with Pandas\n",
    "![T1Hep.png](attachment:T1Hep.png)"
   ]
  },
  {
   "cell_type": "markdown",
   "metadata": {},
   "source": [
    "In this topic we'll complete a primary data analysis of a chemical dataset from a [Kaggle competition](https://www.kaggle.com/c/champs-scalar-coupling/data). The goal of the competition was to provide an algorithm to predict magnetic interaction between two atoms in a molecule (i.e., the scalar coupling constant)."
   ]
  },
  {
   "cell_type": "markdown",
   "metadata": {},
   "source": [
    "## Primary datafile description"
   ]
  },
  {
   "cell_type": "code",
   "execution_count": 1,
   "metadata": {},
   "outputs": [],
   "source": [
    "import json\n",
    "with open('../../course_config.json') as json_file:\n",
    "    CONFIG = json.load(json_file)"
   ]
  },
  {
   "cell_type": "code",
   "execution_count": 2,
   "metadata": {},
   "outputs": [],
   "source": [
    "import numpy as np\n",
    "import pandas as pd"
   ]
  },
  {
   "cell_type": "markdown",
   "metadata": {},
   "source": [
    "Let's read our .csv datafile using pandas `read_csv()` method. To take a look at the first few lines we'll use `head()`. By default it shows 5 top rows."
   ]
  },
  {
   "cell_type": "code",
   "execution_count": 3,
   "metadata": {},
   "outputs": [
    {
     "data": {
      "text/html": [
       "<div>\n",
       "<style scoped>\n",
       "    .dataframe tbody tr th:only-of-type {\n",
       "        vertical-align: middle;\n",
       "    }\n",
       "\n",
       "    .dataframe tbody tr th {\n",
       "        vertical-align: top;\n",
       "    }\n",
       "\n",
       "    .dataframe thead th {\n",
       "        text-align: right;\n",
       "    }\n",
       "</style>\n",
       "<table border=\"1\" class=\"dataframe\">\n",
       "  <thead>\n",
       "    <tr style=\"text-align: right;\">\n",
       "      <th></th>\n",
       "      <th>molecule_name</th>\n",
       "      <th>X</th>\n",
       "      <th>Y</th>\n",
       "      <th>Z</th>\n",
       "    </tr>\n",
       "  </thead>\n",
       "  <tbody>\n",
       "    <tr>\n",
       "      <th>0</th>\n",
       "      <td>dsgdb9nsd_000001</td>\n",
       "      <td>0.0000</td>\n",
       "      <td>0.0</td>\n",
       "      <td>0.0000</td>\n",
       "    </tr>\n",
       "    <tr>\n",
       "      <th>1</th>\n",
       "      <td>dsgdb9nsd_000002</td>\n",
       "      <td>-0.0002</td>\n",
       "      <td>0.0</td>\n",
       "      <td>1.6256</td>\n",
       "    </tr>\n",
       "    <tr>\n",
       "      <th>2</th>\n",
       "      <td>dsgdb9nsd_000003</td>\n",
       "      <td>0.0000</td>\n",
       "      <td>0.0</td>\n",
       "      <td>-1.8511</td>\n",
       "    </tr>\n",
       "    <tr>\n",
       "      <th>3</th>\n",
       "      <td>dsgdb9nsd_000004</td>\n",
       "      <td>0.0000</td>\n",
       "      <td>0.0</td>\n",
       "      <td>0.0000</td>\n",
       "    </tr>\n",
       "    <tr>\n",
       "      <th>4</th>\n",
       "      <td>dsgdb9nsd_000005</td>\n",
       "      <td>0.0000</td>\n",
       "      <td>0.0</td>\n",
       "      <td>-2.8937</td>\n",
       "    </tr>\n",
       "  </tbody>\n",
       "</table>\n",
       "</div>"
      ],
      "text/plain": [
       "      molecule_name       X    Y       Z\n",
       "0  dsgdb9nsd_000001  0.0000  0.0  0.0000\n",
       "1  dsgdb9nsd_000002 -0.0002  0.0  1.6256\n",
       "2  dsgdb9nsd_000003  0.0000  0.0 -1.8511\n",
       "3  dsgdb9nsd_000004  0.0000  0.0  0.0000\n",
       "4  dsgdb9nsd_000005  0.0000  0.0 -2.8937"
      ]
     },
     "execution_count": 3,
     "metadata": {},
     "output_type": "execute_result"
    }
   ],
   "source": [
    "df = pd.read_csv(CONFIG['dataset_path'] + '/champs-scalar-coupling/dipole_moments.csv')\n",
    "df.head()"
   ]
  },
  {
   "cell_type": "markdown",
   "metadata": {},
   "source": [
    "We can see, that the file we're reading consists of 4 columns -- molecule name and XYZ coordinates respectively of the dipole moment. In order to look at the data dimensionality and feature naming we'll use `shape` and `columns` attributes of a dataframe"
   ]
  },
  {
   "cell_type": "code",
   "execution_count": 4,
   "metadata": {},
   "outputs": [
    {
     "data": {
      "text/plain": [
       "((130789, 4), Index(['molecule_name', 'X', 'Y', 'Z'], dtype='object'))"
      ]
     },
     "execution_count": 4,
     "metadata": {},
     "output_type": "execute_result"
    }
   ],
   "source": [
    "df.shape, df.columns"
   ]
  },
  {
   "cell_type": "markdown",
   "metadata": {},
   "source": [
    "The uploaded datafile contains only 130789 rows and 4 columns ('molecule_name', 'X', 'Y', 'Z'). "
   ]
  },
  {
   "cell_type": "markdown",
   "metadata": {},
   "source": [
    "As we see, columns with coordinates and potential energy are stored as floats. Columns with mixed types and strings are stored with the object dtype.\n",
    "<br>There are several ways how we can set the number of decimal places. For simplicity we'll use `round(n)`, where `n` represent number of decimal points"
   ]
  },
  {
   "cell_type": "code",
   "execution_count": 5,
   "metadata": {},
   "outputs": [
    {
     "data": {
      "text/html": [
       "<div>\n",
       "<style scoped>\n",
       "    .dataframe tbody tr th:only-of-type {\n",
       "        vertical-align: middle;\n",
       "    }\n",
       "\n",
       "    .dataframe tbody tr th {\n",
       "        vertical-align: top;\n",
       "    }\n",
       "\n",
       "    .dataframe thead th {\n",
       "        text-align: right;\n",
       "    }\n",
       "</style>\n",
       "<table border=\"1\" class=\"dataframe\">\n",
       "  <thead>\n",
       "    <tr style=\"text-align: right;\">\n",
       "      <th></th>\n",
       "      <th>molecule_name</th>\n",
       "      <th>X</th>\n",
       "      <th>Y</th>\n",
       "      <th>Z</th>\n",
       "    </tr>\n",
       "  </thead>\n",
       "  <tbody>\n",
       "    <tr>\n",
       "      <th>0</th>\n",
       "      <td>dsgdb9nsd_000001</td>\n",
       "      <td>0.0</td>\n",
       "      <td>0.0</td>\n",
       "      <td>0.000</td>\n",
       "    </tr>\n",
       "    <tr>\n",
       "      <th>1</th>\n",
       "      <td>dsgdb9nsd_000002</td>\n",
       "      <td>-0.0</td>\n",
       "      <td>0.0</td>\n",
       "      <td>1.626</td>\n",
       "    </tr>\n",
       "    <tr>\n",
       "      <th>2</th>\n",
       "      <td>dsgdb9nsd_000003</td>\n",
       "      <td>0.0</td>\n",
       "      <td>0.0</td>\n",
       "      <td>-1.851</td>\n",
       "    </tr>\n",
       "  </tbody>\n",
       "</table>\n",
       "</div>"
      ],
      "text/plain": [
       "      molecule_name    X    Y      Z\n",
       "0  dsgdb9nsd_000001  0.0  0.0  0.000\n",
       "1  dsgdb9nsd_000002 -0.0  0.0  1.626\n",
       "2  dsgdb9nsd_000003  0.0  0.0 -1.851"
      ]
     },
     "execution_count": 5,
     "metadata": {},
     "output_type": "execute_result"
    }
   ],
   "source": [
    "df = df.round(3)\n",
    "df.head(3)"
   ]
  },
  {
   "cell_type": "markdown",
   "metadata": {},
   "source": [
    "## Combining several datafiles"
   ]
  },
  {
   "cell_type": "markdown",
   "metadata": {},
   "source": [
    "Let's upload another file to get more details about the molecules. Among others there is a ``potential_energy.csv`` datafile, that we can combine with our current dataframe using `merge()` method"
   ]
  },
  {
   "cell_type": "code",
   "execution_count": 6,
   "metadata": {},
   "outputs": [
    {
     "data": {
      "text/html": [
       "<div>\n",
       "<style scoped>\n",
       "    .dataframe tbody tr th:only-of-type {\n",
       "        vertical-align: middle;\n",
       "    }\n",
       "\n",
       "    .dataframe tbody tr th {\n",
       "        vertical-align: top;\n",
       "    }\n",
       "\n",
       "    .dataframe thead th {\n",
       "        text-align: right;\n",
       "    }\n",
       "</style>\n",
       "<table border=\"1\" class=\"dataframe\">\n",
       "  <thead>\n",
       "    <tr style=\"text-align: right;\">\n",
       "      <th></th>\n",
       "      <th>molecule_name</th>\n",
       "      <th>potential_energy</th>\n",
       "    </tr>\n",
       "  </thead>\n",
       "  <tbody>\n",
       "    <tr>\n",
       "      <th>0</th>\n",
       "      <td>dsgdb9nsd_000001</td>\n",
       "      <td>-40.523680</td>\n",
       "    </tr>\n",
       "    <tr>\n",
       "      <th>1</th>\n",
       "      <td>dsgdb9nsd_000002</td>\n",
       "      <td>-56.560246</td>\n",
       "    </tr>\n",
       "    <tr>\n",
       "      <th>2</th>\n",
       "      <td>dsgdb9nsd_000003</td>\n",
       "      <td>-76.426077</td>\n",
       "    </tr>\n",
       "  </tbody>\n",
       "</table>\n",
       "</div>"
      ],
      "text/plain": [
       "      molecule_name  potential_energy\n",
       "0  dsgdb9nsd_000001        -40.523680\n",
       "1  dsgdb9nsd_000002        -56.560246\n",
       "2  dsgdb9nsd_000003        -76.426077"
      ]
     },
     "execution_count": 6,
     "metadata": {},
     "output_type": "execute_result"
    }
   ],
   "source": [
    "potential_energy_df = pd.read_csv(CONFIG['dataset_path'] + '/champs-scalar-coupling/potential_energy.csv')\n",
    "potential_energy_df.head(3)"
   ]
  },
  {
   "cell_type": "code",
   "execution_count": 7,
   "metadata": {},
   "outputs": [
    {
     "data": {
      "text/html": [
       "<div>\n",
       "<style scoped>\n",
       "    .dataframe tbody tr th:only-of-type {\n",
       "        vertical-align: middle;\n",
       "    }\n",
       "\n",
       "    .dataframe tbody tr th {\n",
       "        vertical-align: top;\n",
       "    }\n",
       "\n",
       "    .dataframe thead th {\n",
       "        text-align: right;\n",
       "    }\n",
       "</style>\n",
       "<table border=\"1\" class=\"dataframe\">\n",
       "  <thead>\n",
       "    <tr style=\"text-align: right;\">\n",
       "      <th></th>\n",
       "      <th>molecule_name</th>\n",
       "      <th>X</th>\n",
       "      <th>Y</th>\n",
       "      <th>Z</th>\n",
       "      <th>potential_energy</th>\n",
       "    </tr>\n",
       "  </thead>\n",
       "  <tbody>\n",
       "    <tr>\n",
       "      <th>0</th>\n",
       "      <td>dsgdb9nsd_000001</td>\n",
       "      <td>0.0</td>\n",
       "      <td>0.0</td>\n",
       "      <td>0.000</td>\n",
       "      <td>-40.523680</td>\n",
       "    </tr>\n",
       "    <tr>\n",
       "      <th>1</th>\n",
       "      <td>dsgdb9nsd_000002</td>\n",
       "      <td>-0.0</td>\n",
       "      <td>0.0</td>\n",
       "      <td>1.626</td>\n",
       "      <td>-56.560246</td>\n",
       "    </tr>\n",
       "    <tr>\n",
       "      <th>2</th>\n",
       "      <td>dsgdb9nsd_000003</td>\n",
       "      <td>0.0</td>\n",
       "      <td>0.0</td>\n",
       "      <td>-1.851</td>\n",
       "      <td>-76.426077</td>\n",
       "    </tr>\n",
       "    <tr>\n",
       "      <th>3</th>\n",
       "      <td>dsgdb9nsd_000004</td>\n",
       "      <td>0.0</td>\n",
       "      <td>0.0</td>\n",
       "      <td>0.000</td>\n",
       "      <td>-77.335268</td>\n",
       "    </tr>\n",
       "    <tr>\n",
       "      <th>4</th>\n",
       "      <td>dsgdb9nsd_000005</td>\n",
       "      <td>0.0</td>\n",
       "      <td>0.0</td>\n",
       "      <td>-2.894</td>\n",
       "      <td>-93.428488</td>\n",
       "    </tr>\n",
       "  </tbody>\n",
       "</table>\n",
       "</div>"
      ],
      "text/plain": [
       "      molecule_name    X    Y      Z  potential_energy\n",
       "0  dsgdb9nsd_000001  0.0  0.0  0.000        -40.523680\n",
       "1  dsgdb9nsd_000002 -0.0  0.0  1.626        -56.560246\n",
       "2  dsgdb9nsd_000003  0.0  0.0 -1.851        -76.426077\n",
       "3  dsgdb9nsd_000004  0.0  0.0  0.000        -77.335268\n",
       "4  dsgdb9nsd_000005  0.0  0.0 -2.894        -93.428488"
      ]
     },
     "execution_count": 7,
     "metadata": {},
     "output_type": "execute_result"
    }
   ],
   "source": [
    "df = pd.merge(df, potential_energy_df, how='outer', on=['molecule_name'])\n",
    "df.head()"
   ]
  },
  {
   "cell_type": "markdown",
   "metadata": {},
   "source": [
    "We've merged <b>df</b> and <b>potential_energy_df</b> dataframe on <b>molecule_name</b> key. You can read more on grouping dataframes in the following pandas [tutorial](https://pandas.pydata.org/pandas-docs/stable/user_guide/merging.html).\n",
    "<br>Now let's take a look at our updated feature types"
   ]
  },
  {
   "cell_type": "code",
   "execution_count": 8,
   "metadata": {},
   "outputs": [
    {
     "name": "stdout",
     "output_type": "stream",
     "text": [
      "<class 'pandas.core.frame.DataFrame'>\n",
      "Int64Index: 130789 entries, 0 to 130788\n",
      "Data columns (total 5 columns):\n",
      " #   Column            Non-Null Count   Dtype  \n",
      "---  ------            --------------   -----  \n",
      " 0   molecule_name     130789 non-null  object \n",
      " 1   X                 130789 non-null  float64\n",
      " 2   Y                 130789 non-null  float64\n",
      " 3   Z                 130789 non-null  float64\n",
      " 4   potential_energy  130789 non-null  float64\n",
      "dtypes: float64(4), object(1)\n",
      "memory usage: 6.0+ MB\n"
     ]
    }
   ],
   "source": [
    "df.info()"
   ]
  },
  {
   "cell_type": "markdown",
   "metadata": {},
   "source": [
    "We've added a potential_energy column and rounded all float columns, so that our dataframe would be more readable"
   ]
  },
  {
   "cell_type": "markdown",
   "metadata": {},
   "source": [
    "## Conditional operations"
   ]
  },
  {
   "cell_type": "markdown",
   "metadata": {},
   "source": [
    "In order to get a single column, we can use `df['some_column']` or `df.some_column` construction.\n",
    "<br>For example we can calculate average potential energy in our dataframe using ```mean()``` method"
   ]
  },
  {
   "cell_type": "code",
   "execution_count": 9,
   "metadata": {},
   "outputs": [
    {
     "data": {
      "text/plain": [
       "-410.9514131588788"
      ]
     },
     "execution_count": 9,
     "metadata": {},
     "output_type": "execute_result"
    }
   ],
   "source": [
    "df['potential_energy'].mean()"
   ]
  },
  {
   "cell_type": "markdown",
   "metadata": {},
   "source": [
    "Boolean indexing can be very useful for basic filtering. More example on filtering you'll get during this topic. For now, you may use the following basic syntax:\n",
    "<br>```df[df['some_conditional_column'] (condition <!=>) some_value]['some_display_column']```\n",
    "<br>For example let's calculate average potential energy, for molecules, which potential energy values is less than -400"
   ]
  },
  {
   "cell_type": "code",
   "execution_count": 10,
   "metadata": {},
   "outputs": [
    {
     "data": {
      "text/plain": [
       "-433.100866146618"
      ]
     },
     "execution_count": 10,
     "metadata": {},
     "output_type": "execute_result"
    }
   ],
   "source": [
    "df[df['potential_energy'] < -400]['potential_energy'].mean()"
   ]
  },
  {
   "cell_type": "markdown",
   "metadata": {},
   "source": [
    "In the above example ```df['potential_energy'] < -400``` is a bool expresion: either potential energy value satisfies the condition or not. This expresion might be more complicated, including several conditions at once"
   ]
  },
  {
   "cell_type": "code",
   "execution_count": 11,
   "metadata": {},
   "outputs": [
    {
     "name": "stdout",
     "output_type": "stream",
     "text": [
      "-714.6261972 -714.6261972 -529.9790320000001\n"
     ]
    }
   ],
   "source": [
    "print(\n",
    "df[(df['X'] == 0)]['potential_energy'].min(),\n",
    "df[(df['X'] == 0) & (df['Y'] == 0)]['potential_energy'].min(),\n",
    "df[(df['X'] == 0) & (df['Y'] == 0) & (df['Z'] == 0)]['potential_energy'].min())"
   ]
  },
  {
   "cell_type": "markdown",
   "metadata": {},
   "source": [
    "It seems the stricter the rule (more coordinates should be centric) the lower number of molecules apply to that rule. What leads to narrowing the min-max boundries and increasing the minimum potential energy value. Last, but not least, let's look at median value of potential_energy for molecules with center at (0,0,0) and molecules with neither of the coordinates are centric"
   ]
  },
  {
   "cell_type": "code",
   "execution_count": 12,
   "metadata": {},
   "outputs": [
    {
     "data": {
      "text/plain": [
       "(-315.7387769, -418.0691439)"
      ]
     },
     "execution_count": 12,
     "metadata": {},
     "output_type": "execute_result"
    }
   ],
   "source": [
    "df[(df['X'] == 0) & (df['Y'] == 0) & (df['Z'] == 0)]['potential_energy'].median(), df[(df['X'] != 0) & (df['Y'] != 0) & (df['Z'] != 0)]['potential_energy'].median()"
   ]
  },
  {
   "cell_type": "markdown",
   "metadata": {},
   "source": [
    "It seems the median values differ quite significantly between the classes. I encourage you to look for an explanation yourself :)"
   ]
  },
  {
   "cell_type": "markdown",
   "metadata": {},
   "source": [
    "## Indexing dataframes "
   ]
  },
  {
   "cell_type": "markdown",
   "metadata": {},
   "source": [
    "DataFrames can be indexed by:\n",
    "<ul>\n",
    "   <li>column name (label)\n",
    "   <li>row name (index)\n",
    "   <li>serial number of a row.\n",
    "</ul>"
   ]
  },
  {
   "cell_type": "markdown",
   "metadata": {},
   "source": [
    "The ```loc()``` method is used for indexing by name, whereas ```iloc()``` is used for indexing by number."
   ]
  },
  {
   "cell_type": "code",
   "execution_count": 13,
   "metadata": {},
   "outputs": [
    {
     "data": {
      "text/html": [
       "<div>\n",
       "<style scoped>\n",
       "    .dataframe tbody tr th:only-of-type {\n",
       "        vertical-align: middle;\n",
       "    }\n",
       "\n",
       "    .dataframe tbody tr th {\n",
       "        vertical-align: top;\n",
       "    }\n",
       "\n",
       "    .dataframe thead th {\n",
       "        text-align: right;\n",
       "    }\n",
       "</style>\n",
       "<table border=\"1\" class=\"dataframe\">\n",
       "  <thead>\n",
       "    <tr style=\"text-align: right;\">\n",
       "      <th></th>\n",
       "      <th>X</th>\n",
       "      <th>Y</th>\n",
       "      <th>Z</th>\n",
       "    </tr>\n",
       "  </thead>\n",
       "  <tbody>\n",
       "    <tr>\n",
       "      <th>0</th>\n",
       "      <td>0.000</td>\n",
       "      <td>0.0</td>\n",
       "      <td>0.000</td>\n",
       "    </tr>\n",
       "    <tr>\n",
       "      <th>1</th>\n",
       "      <td>-0.000</td>\n",
       "      <td>0.0</td>\n",
       "      <td>1.626</td>\n",
       "    </tr>\n",
       "    <tr>\n",
       "      <th>2</th>\n",
       "      <td>0.000</td>\n",
       "      <td>0.0</td>\n",
       "      <td>-1.851</td>\n",
       "    </tr>\n",
       "    <tr>\n",
       "      <th>3</th>\n",
       "      <td>0.000</td>\n",
       "      <td>0.0</td>\n",
       "      <td>0.000</td>\n",
       "    </tr>\n",
       "    <tr>\n",
       "      <th>4</th>\n",
       "      <td>0.000</td>\n",
       "      <td>0.0</td>\n",
       "      <td>-2.894</td>\n",
       "    </tr>\n",
       "    <tr>\n",
       "      <th>5</th>\n",
       "      <td>-2.109</td>\n",
       "      <td>0.0</td>\n",
       "      <td>0.000</td>\n",
       "    </tr>\n",
       "  </tbody>\n",
       "</table>\n",
       "</div>"
      ],
      "text/plain": [
       "       X    Y      Z\n",
       "0  0.000  0.0  0.000\n",
       "1 -0.000  0.0  1.626\n",
       "2  0.000  0.0 -1.851\n",
       "3  0.000  0.0  0.000\n",
       "4  0.000  0.0 -2.894\n",
       "5 -2.109  0.0  0.000"
      ]
     },
     "execution_count": 13,
     "metadata": {},
     "output_type": "execute_result"
    }
   ],
   "source": [
    "df.loc[0:5, 'X':'Z']"
   ]
  },
  {
   "cell_type": "code",
   "execution_count": 14,
   "metadata": {},
   "outputs": [
    {
     "data": {
      "text/html": [
       "<div>\n",
       "<style scoped>\n",
       "    .dataframe tbody tr th:only-of-type {\n",
       "        vertical-align: middle;\n",
       "    }\n",
       "\n",
       "    .dataframe tbody tr th {\n",
       "        vertical-align: top;\n",
       "    }\n",
       "\n",
       "    .dataframe thead th {\n",
       "        text-align: right;\n",
       "    }\n",
       "</style>\n",
       "<table border=\"1\" class=\"dataframe\">\n",
       "  <thead>\n",
       "    <tr style=\"text-align: right;\">\n",
       "      <th></th>\n",
       "      <th>molecule_name</th>\n",
       "      <th>X</th>\n",
       "    </tr>\n",
       "  </thead>\n",
       "  <tbody>\n",
       "    <tr>\n",
       "      <th>130788</th>\n",
       "      <td>dsgdb9nsd_133885</td>\n",
       "      <td>-0.858</td>\n",
       "    </tr>\n",
       "  </tbody>\n",
       "</table>\n",
       "</div>"
      ],
      "text/plain": [
       "           molecule_name      X\n",
       "130788  dsgdb9nsd_133885 -0.858"
      ]
     },
     "execution_count": 14,
     "metadata": {},
     "output_type": "execute_result"
    }
   ],
   "source": [
    "df.iloc[-1:, 0:2]"
   ]
  },
  {
   "cell_type": "markdown",
   "metadata": {},
   "source": [
    "Using current index is not very comfortable. Much more useful would be to use molecule_name column. For that reason applying ```set_index()``` method"
   ]
  },
  {
   "cell_type": "code",
   "execution_count": 15,
   "metadata": {},
   "outputs": [
    {
     "data": {
      "text/html": [
       "<div>\n",
       "<style scoped>\n",
       "    .dataframe tbody tr th:only-of-type {\n",
       "        vertical-align: middle;\n",
       "    }\n",
       "\n",
       "    .dataframe tbody tr th {\n",
       "        vertical-align: top;\n",
       "    }\n",
       "\n",
       "    .dataframe thead th {\n",
       "        text-align: right;\n",
       "    }\n",
       "</style>\n",
       "<table border=\"1\" class=\"dataframe\">\n",
       "  <thead>\n",
       "    <tr style=\"text-align: right;\">\n",
       "      <th></th>\n",
       "      <th>X</th>\n",
       "      <th>Y</th>\n",
       "      <th>Z</th>\n",
       "      <th>potential_energy</th>\n",
       "    </tr>\n",
       "    <tr>\n",
       "      <th>molecule_name</th>\n",
       "      <th></th>\n",
       "      <th></th>\n",
       "      <th></th>\n",
       "      <th></th>\n",
       "    </tr>\n",
       "  </thead>\n",
       "  <tbody>\n",
       "    <tr>\n",
       "      <th>dsgdb9nsd_000001</th>\n",
       "      <td>0.0</td>\n",
       "      <td>0.0</td>\n",
       "      <td>0.000</td>\n",
       "      <td>-40.523680</td>\n",
       "    </tr>\n",
       "    <tr>\n",
       "      <th>dsgdb9nsd_000002</th>\n",
       "      <td>-0.0</td>\n",
       "      <td>0.0</td>\n",
       "      <td>1.626</td>\n",
       "      <td>-56.560246</td>\n",
       "    </tr>\n",
       "    <tr>\n",
       "      <th>dsgdb9nsd_000003</th>\n",
       "      <td>0.0</td>\n",
       "      <td>0.0</td>\n",
       "      <td>-1.851</td>\n",
       "      <td>-76.426077</td>\n",
       "    </tr>\n",
       "  </tbody>\n",
       "</table>\n",
       "</div>"
      ],
      "text/plain": [
       "                    X    Y      Z  potential_energy\n",
       "molecule_name                                      \n",
       "dsgdb9nsd_000001  0.0  0.0  0.000        -40.523680\n",
       "dsgdb9nsd_000002 -0.0  0.0  1.626        -56.560246\n",
       "dsgdb9nsd_000003  0.0  0.0 -1.851        -76.426077"
      ]
     },
     "execution_count": 15,
     "metadata": {},
     "output_type": "execute_result"
    }
   ],
   "source": [
    "df.set_index('molecule_name', inplace = True)\n",
    "df.head(3)"
   ]
  },
  {
   "cell_type": "markdown",
   "metadata": {},
   "source": [
    "## Feature engineering"
   ]
  },
  {
   "cell_type": "markdown",
   "metadata": {},
   "source": [
    "Till this moment we had 4 features we collected from the initial csv files. We can generate new features using different operations. For example, we can calculate the distance to center (0,0,0) using our XYZ coordinates.\n",
    "<br>The formula with be as follows:\n",
    "<br>${d} = \\sqrt[3]{({X} - {X}_{0})^2 + ({Y} - {Y}_{0})^2 + ({Z} - {Z}_{0})^2}  = \\sqrt[3]{{X}^2 + {Y}^2 + {Z}^2}$\n",
    "<br>\n",
    "<br>For complex math operation you might consider using pythons' [math](https://docs.python.org/3/library/math.html) operation. In this example we'll write the formula as is"
   ]
  },
  {
   "cell_type": "code",
   "execution_count": 16,
   "metadata": {},
   "outputs": [],
   "source": [
    "df['d_to_center'] = (df['X']**2+df['Y']**2+df['Z']**2)**(1/3)"
   ]
  },
  {
   "cell_type": "markdown",
   "metadata": {},
   "source": [
    "We can also create columns based on condition. Below is an example of calculating the amount of 0's amon XYZ coordinates. This data might give us hints about the symmetry of molecules"
   ]
  },
  {
   "cell_type": "code",
   "execution_count": 17,
   "metadata": {},
   "outputs": [],
   "source": [
    "df['0\\'s among XYZ'] = (df[['X','Y','Z']] == 0).astype(int).sum(axis=1)"
   ]
  },
  {
   "cell_type": "markdown",
   "metadata": {},
   "source": [
    "In order to apply functions to each column, you may use `apply()` method. The function inside might be simple `np.mean()`, `np.max()`, `np.min()`, etc. For complex calculations one can use `lambda` functions. You may also create dataframe columns based on the results of `apply()` method"
   ]
  },
  {
   "cell_type": "code",
   "execution_count": 18,
   "metadata": {},
   "outputs": [
    {
     "data": {
      "text/plain": [
       "X                   29.549000\n",
       "Y                   13.006000\n",
       "Z                    7.696000\n",
       "potential_energy   -40.523680\n",
       "d_to_center          9.559394\n",
       "0's among XYZ        3.000000\n",
       "dtype: float64"
      ]
     },
     "execution_count": 18,
     "metadata": {},
     "output_type": "execute_result"
    }
   ],
   "source": [
    "df.apply(np.max) "
   ]
  },
  {
   "cell_type": "code",
   "execution_count": 19,
   "metadata": {},
   "outputs": [],
   "source": [
    "df['centric_dipole_moment'] = df['d_to_center'].apply(lambda x: True if x == 0 else False)\n",
    "df['distance_more_than_1A'] = df['d_to_center'].apply(lambda x: True if x >= 1 else False)"
   ]
  },
  {
   "cell_type": "markdown",
   "metadata": {},
   "source": [
    "Our dataframe so far:"
   ]
  },
  {
   "cell_type": "code",
   "execution_count": 20,
   "metadata": {},
   "outputs": [
    {
     "data": {
      "text/html": [
       "<div>\n",
       "<style scoped>\n",
       "    .dataframe tbody tr th:only-of-type {\n",
       "        vertical-align: middle;\n",
       "    }\n",
       "\n",
       "    .dataframe tbody tr th {\n",
       "        vertical-align: top;\n",
       "    }\n",
       "\n",
       "    .dataframe thead th {\n",
       "        text-align: right;\n",
       "    }\n",
       "</style>\n",
       "<table border=\"1\" class=\"dataframe\">\n",
       "  <thead>\n",
       "    <tr style=\"text-align: right;\">\n",
       "      <th></th>\n",
       "      <th>X</th>\n",
       "      <th>Y</th>\n",
       "      <th>Z</th>\n",
       "      <th>potential_energy</th>\n",
       "      <th>d_to_center</th>\n",
       "      <th>0's among XYZ</th>\n",
       "      <th>centric_dipole_moment</th>\n",
       "      <th>distance_more_than_1A</th>\n",
       "    </tr>\n",
       "    <tr>\n",
       "      <th>molecule_name</th>\n",
       "      <th></th>\n",
       "      <th></th>\n",
       "      <th></th>\n",
       "      <th></th>\n",
       "      <th></th>\n",
       "      <th></th>\n",
       "      <th></th>\n",
       "      <th></th>\n",
       "    </tr>\n",
       "  </thead>\n",
       "  <tbody>\n",
       "    <tr>\n",
       "      <th>dsgdb9nsd_000001</th>\n",
       "      <td>0.0</td>\n",
       "      <td>0.0</td>\n",
       "      <td>0.000</td>\n",
       "      <td>-40.523680</td>\n",
       "      <td>0.000000</td>\n",
       "      <td>3</td>\n",
       "      <td>True</td>\n",
       "      <td>False</td>\n",
       "    </tr>\n",
       "    <tr>\n",
       "      <th>dsgdb9nsd_000002</th>\n",
       "      <td>-0.0</td>\n",
       "      <td>0.0</td>\n",
       "      <td>1.626</td>\n",
       "      <td>-56.560246</td>\n",
       "      <td>1.382761</td>\n",
       "      <td>2</td>\n",
       "      <td>False</td>\n",
       "      <td>True</td>\n",
       "    </tr>\n",
       "    <tr>\n",
       "      <th>dsgdb9nsd_000003</th>\n",
       "      <td>0.0</td>\n",
       "      <td>0.0</td>\n",
       "      <td>-1.851</td>\n",
       "      <td>-76.426077</td>\n",
       "      <td>1.507547</td>\n",
       "      <td>2</td>\n",
       "      <td>False</td>\n",
       "      <td>True</td>\n",
       "    </tr>\n",
       "  </tbody>\n",
       "</table>\n",
       "</div>"
      ],
      "text/plain": [
       "                    X    Y      Z  potential_energy  d_to_center  \\\n",
       "molecule_name                                                      \n",
       "dsgdb9nsd_000001  0.0  0.0  0.000        -40.523680     0.000000   \n",
       "dsgdb9nsd_000002 -0.0  0.0  1.626        -56.560246     1.382761   \n",
       "dsgdb9nsd_000003  0.0  0.0 -1.851        -76.426077     1.507547   \n",
       "\n",
       "                  0's among XYZ  centric_dipole_moment  distance_more_than_1A  \n",
       "molecule_name                                                                  \n",
       "dsgdb9nsd_000001              3                   True                  False  \n",
       "dsgdb9nsd_000002              2                  False                   True  \n",
       "dsgdb9nsd_000003              2                  False                   True  "
      ]
     },
     "execution_count": 20,
     "metadata": {},
     "output_type": "execute_result"
    }
   ],
   "source": [
    "df.head(3)"
   ]
  },
  {
   "cell_type": "markdown",
   "metadata": {},
   "source": [
    "## Dropping and inserting columns"
   ]
  },
  {
   "cell_type": "markdown",
   "metadata": {},
   "source": [
    "Besides adding column it makes sense to delete them and keep the dataframe tidy. In order to do that, one can use ```drop()``` method, passing the required indexes. Using ```inplace=True``` parameter you will apply the changes to your current dataframe. The axis parameter will show either you want to delete columns (```axis=1```) or rows (`axis=0` by default)"
   ]
  },
  {
   "cell_type": "code",
   "execution_count": 21,
   "metadata": {},
   "outputs": [
    {
     "data": {
      "text/plain": [
       "Index(['X', 'Y', 'Z', 'potential_energy', 'd_to_center', '0's among XYZ',\n",
       "       'centric_dipole_moment', 'distance_more_than_1A'],\n",
       "      dtype='object')"
      ]
     },
     "execution_count": 21,
     "metadata": {},
     "output_type": "execute_result"
    }
   ],
   "source": [
    "df.columns"
   ]
  },
  {
   "cell_type": "code",
   "execution_count": 22,
   "metadata": {},
   "outputs": [
    {
     "data": {
      "text/plain": [
       "Index(['X', 'Y', 'Z', 'potential_energy', '0's among XYZ',\n",
       "       'centric_dipole_moment', 'distance_more_than_1A'],\n",
       "      dtype='object')"
      ]
     },
     "execution_count": 22,
     "metadata": {},
     "output_type": "execute_result"
    }
   ],
   "source": [
    "df.drop(['d_to_center'], axis=1, inplace=True)\n",
    "df.columns"
   ]
  },
  {
   "cell_type": "code",
   "execution_count": 23,
   "metadata": {},
   "outputs": [
    {
     "data": {
      "text/html": [
       "<div>\n",
       "<style scoped>\n",
       "    .dataframe tbody tr th:only-of-type {\n",
       "        vertical-align: middle;\n",
       "    }\n",
       "\n",
       "    .dataframe tbody tr th {\n",
       "        vertical-align: top;\n",
       "    }\n",
       "\n",
       "    .dataframe thead th {\n",
       "        text-align: right;\n",
       "    }\n",
       "</style>\n",
       "<table border=\"1\" class=\"dataframe\">\n",
       "  <thead>\n",
       "    <tr style=\"text-align: right;\">\n",
       "      <th></th>\n",
       "      <th>X</th>\n",
       "      <th>Y</th>\n",
       "      <th>Z</th>\n",
       "      <th>potential_energy</th>\n",
       "      <th>0's among XYZ</th>\n",
       "      <th>centric_dipole_moment</th>\n",
       "      <th>distance_more_than_1A</th>\n",
       "    </tr>\n",
       "    <tr>\n",
       "      <th>molecule_name</th>\n",
       "      <th></th>\n",
       "      <th></th>\n",
       "      <th></th>\n",
       "      <th></th>\n",
       "      <th></th>\n",
       "      <th></th>\n",
       "      <th></th>\n",
       "    </tr>\n",
       "  </thead>\n",
       "  <tbody>\n",
       "    <tr>\n",
       "      <th>dsgdb9nsd_000002</th>\n",
       "      <td>-0.000</td>\n",
       "      <td>0.0</td>\n",
       "      <td>1.626</td>\n",
       "      <td>-56.560246</td>\n",
       "      <td>2</td>\n",
       "      <td>False</td>\n",
       "      <td>True</td>\n",
       "    </tr>\n",
       "    <tr>\n",
       "      <th>dsgdb9nsd_000004</th>\n",
       "      <td>0.000</td>\n",
       "      <td>0.0</td>\n",
       "      <td>0.000</td>\n",
       "      <td>-77.335268</td>\n",
       "      <td>3</td>\n",
       "      <td>True</td>\n",
       "      <td>False</td>\n",
       "    </tr>\n",
       "    <tr>\n",
       "      <th>dsgdb9nsd_000005</th>\n",
       "      <td>0.000</td>\n",
       "      <td>0.0</td>\n",
       "      <td>-2.894</td>\n",
       "      <td>-93.428488</td>\n",
       "      <td>2</td>\n",
       "      <td>False</td>\n",
       "      <td>True</td>\n",
       "    </tr>\n",
       "    <tr>\n",
       "      <th>dsgdb9nsd_000006</th>\n",
       "      <td>-2.109</td>\n",
       "      <td>0.0</td>\n",
       "      <td>0.000</td>\n",
       "      <td>-114.510216</td>\n",
       "      <td>2</td>\n",
       "      <td>False</td>\n",
       "      <td>True</td>\n",
       "    </tr>\n",
       "    <tr>\n",
       "      <th>dsgdb9nsd_000007</th>\n",
       "      <td>0.000</td>\n",
       "      <td>0.0</td>\n",
       "      <td>0.000</td>\n",
       "      <td>-79.838694</td>\n",
       "      <td>3</td>\n",
       "      <td>True</td>\n",
       "      <td>False</td>\n",
       "    </tr>\n",
       "  </tbody>\n",
       "</table>\n",
       "</div>"
      ],
      "text/plain": [
       "                      X    Y      Z  potential_energy  0's among XYZ  \\\n",
       "molecule_name                                                          \n",
       "dsgdb9nsd_000002 -0.000  0.0  1.626        -56.560246              2   \n",
       "dsgdb9nsd_000004  0.000  0.0  0.000        -77.335268              3   \n",
       "dsgdb9nsd_000005  0.000  0.0 -2.894        -93.428488              2   \n",
       "dsgdb9nsd_000006 -2.109  0.0  0.000       -114.510216              2   \n",
       "dsgdb9nsd_000007  0.000  0.0  0.000        -79.838694              3   \n",
       "\n",
       "                  centric_dipole_moment  distance_more_than_1A  \n",
       "molecule_name                                                   \n",
       "dsgdb9nsd_000002                  False                   True  \n",
       "dsgdb9nsd_000004                   True                  False  \n",
       "dsgdb9nsd_000005                  False                   True  \n",
       "dsgdb9nsd_000006                  False                   True  \n",
       "dsgdb9nsd_000007                   True                  False  "
      ]
     },
     "execution_count": 23,
     "metadata": {},
     "output_type": "execute_result"
    }
   ],
   "source": [
    "df.drop(['dsgdb9nsd_000001', 'dsgdb9nsd_000003']).head()"
   ]
  },
  {
   "cell_type": "markdown",
   "metadata": {},
   "source": [
    "Inserting columns you might perform as it was shown above. Another way is to insert some values into your dataframe. For example, the <b>distance_to_center</b> values might've been obtained from a function or assignment. The `loc=<int>` parameter assigns the position of the column, `column=<name>` assigns future name and `value=<some_value>` assign the values of the column.\n",
    "Let's restore our `d_to_center` column, deleted previously and locate it right after XYZ columns"
   ]
  },
  {
   "cell_type": "code",
   "execution_count": 24,
   "metadata": {},
   "outputs": [
    {
     "data": {
      "text/html": [
       "<div>\n",
       "<style scoped>\n",
       "    .dataframe tbody tr th:only-of-type {\n",
       "        vertical-align: middle;\n",
       "    }\n",
       "\n",
       "    .dataframe tbody tr th {\n",
       "        vertical-align: top;\n",
       "    }\n",
       "\n",
       "    .dataframe thead th {\n",
       "        text-align: right;\n",
       "    }\n",
       "</style>\n",
       "<table border=\"1\" class=\"dataframe\">\n",
       "  <thead>\n",
       "    <tr style=\"text-align: right;\">\n",
       "      <th></th>\n",
       "      <th>X</th>\n",
       "      <th>Y</th>\n",
       "      <th>Z</th>\n",
       "      <th>d_to_center</th>\n",
       "      <th>potential_energy</th>\n",
       "      <th>0's among XYZ</th>\n",
       "      <th>centric_dipole_moment</th>\n",
       "      <th>distance_more_than_1A</th>\n",
       "    </tr>\n",
       "    <tr>\n",
       "      <th>molecule_name</th>\n",
       "      <th></th>\n",
       "      <th></th>\n",
       "      <th></th>\n",
       "      <th></th>\n",
       "      <th></th>\n",
       "      <th></th>\n",
       "      <th></th>\n",
       "      <th></th>\n",
       "    </tr>\n",
       "  </thead>\n",
       "  <tbody>\n",
       "    <tr>\n",
       "      <th>dsgdb9nsd_133882</th>\n",
       "      <td>-0.371</td>\n",
       "      <td>-1.244</td>\n",
       "      <td>0.0</td>\n",
       "      <td>1.190004</td>\n",
       "      <td>-400.757209</td>\n",
       "      <td>1</td>\n",
       "      <td>False</td>\n",
       "      <td>True</td>\n",
       "    </tr>\n",
       "    <tr>\n",
       "      <th>dsgdb9nsd_133883</th>\n",
       "      <td>-0.436</td>\n",
       "      <td>1.169</td>\n",
       "      <td>-0.0</td>\n",
       "      <td>1.158949</td>\n",
       "      <td>-380.894376</td>\n",
       "      <td>1</td>\n",
       "      <td>False</td>\n",
       "      <td>True</td>\n",
       "    </tr>\n",
       "    <tr>\n",
       "      <th>dsgdb9nsd_133884</th>\n",
       "      <td>1.362</td>\n",
       "      <td>1.406</td>\n",
       "      <td>-0.0</td>\n",
       "      <td>1.564843</td>\n",
       "      <td>-364.872596</td>\n",
       "      <td>1</td>\n",
       "      <td>False</td>\n",
       "      <td>True</td>\n",
       "    </tr>\n",
       "    <tr>\n",
       "      <th>dsgdb9nsd_133885</th>\n",
       "      <td>-0.858</td>\n",
       "      <td>-0.091</td>\n",
       "      <td>-0.0</td>\n",
       "      <td>0.906312</td>\n",
       "      <td>-400.760914</td>\n",
       "      <td>1</td>\n",
       "      <td>False</td>\n",
       "      <td>False</td>\n",
       "    </tr>\n",
       "  </tbody>\n",
       "</table>\n",
       "</div>"
      ],
      "text/plain": [
       "                      X      Y    Z  d_to_center  potential_energy  \\\n",
       "molecule_name                                                        \n",
       "dsgdb9nsd_133882 -0.371 -1.244  0.0     1.190004       -400.757209   \n",
       "dsgdb9nsd_133883 -0.436  1.169 -0.0     1.158949       -380.894376   \n",
       "dsgdb9nsd_133884  1.362  1.406 -0.0     1.564843       -364.872596   \n",
       "dsgdb9nsd_133885 -0.858 -0.091 -0.0     0.906312       -400.760914   \n",
       "\n",
       "                  0's among XYZ  centric_dipole_moment  distance_more_than_1A  \n",
       "molecule_name                                                                  \n",
       "dsgdb9nsd_133882              1                  False                   True  \n",
       "dsgdb9nsd_133883              1                  False                   True  \n",
       "dsgdb9nsd_133884              1                  False                   True  \n",
       "dsgdb9nsd_133885              1                  False                  False  "
      ]
     },
     "execution_count": 24,
     "metadata": {},
     "output_type": "execute_result"
    }
   ],
   "source": [
    "distance_to_center = (df['X']**2+df['Y']**2+df['Z']**2)**(1/3)\n",
    "df.insert(loc=3, column='d_to_center', value=distance_to_center)\n",
    "df.tail(4)"
   ]
  },
  {
   "cell_type": "markdown",
   "metadata": {},
   "source": [
    "#### Adding chemical formulas"
   ]
  },
  {
   "cell_type": "markdown",
   "metadata": {},
   "source": [
    "Let's add chemical formulas to our existing dataset. In order to do that, we'll:\n",
    "<ul>\n",
    "    <li>read all the files we have in the data/structures folder\n",
    "    <li>process each file via molmod library\n",
    "    <li>save all formula into list\n",
    "    <li>construct a dataframe upon formula list\n",
    "</ul>\n",
    "Afterwards, we'll merge our generated dataframe into our current one."
   ]
  },
  {
   "cell_type": "code",
   "execution_count": 25,
   "metadata": {},
   "outputs": [
    {
     "data": {
      "text/html": [
       "<div>\n",
       "<style scoped>\n",
       "    .dataframe tbody tr th:only-of-type {\n",
       "        vertical-align: middle;\n",
       "    }\n",
       "\n",
       "    .dataframe tbody tr th {\n",
       "        vertical-align: top;\n",
       "    }\n",
       "\n",
       "    .dataframe thead th {\n",
       "        text-align: right;\n",
       "    }\n",
       "</style>\n",
       "<table border=\"1\" class=\"dataframe\">\n",
       "  <thead>\n",
       "    <tr style=\"text-align: right;\">\n",
       "      <th></th>\n",
       "      <th>molecule_name</th>\n",
       "      <th>molecule_formula</th>\n",
       "      <th>X</th>\n",
       "      <th>Y</th>\n",
       "      <th>Z</th>\n",
       "      <th>d_to_center</th>\n",
       "      <th>potential_energy</th>\n",
       "      <th>0's among XYZ</th>\n",
       "      <th>centric_dipole_moment</th>\n",
       "      <th>distance_more_than_1A</th>\n",
       "    </tr>\n",
       "  </thead>\n",
       "  <tbody>\n",
       "    <tr>\n",
       "      <th>0</th>\n",
       "      <td>dsgdb9nsd_086753</td>\n",
       "      <td>ONC7H9</td>\n",
       "      <td>4.898</td>\n",
       "      <td>0.301</td>\n",
       "      <td>-0.185</td>\n",
       "      <td>2.889108</td>\n",
       "      <td>-402.126372</td>\n",
       "      <td>0</td>\n",
       "      <td>False</td>\n",
       "      <td>True</td>\n",
       "    </tr>\n",
       "    <tr>\n",
       "      <th>1</th>\n",
       "      <td>dsgdb9nsd_053724</td>\n",
       "      <td>O2N2C5H2</td>\n",
       "      <td>-3.581</td>\n",
       "      <td>0.563</td>\n",
       "      <td>3.536</td>\n",
       "      <td>2.948906</td>\n",
       "      <td>-451.613879</td>\n",
       "      <td>0</td>\n",
       "      <td>False</td>\n",
       "      <td>True</td>\n",
       "    </tr>\n",
       "    <tr>\n",
       "      <th>2</th>\n",
       "      <td>dsgdb9nsd_115995</td>\n",
       "      <td>ON2C6H10</td>\n",
       "      <td>-0.881</td>\n",
       "      <td>-2.694</td>\n",
       "      <td>-0.180</td>\n",
       "      <td>2.005501</td>\n",
       "      <td>-419.388262</td>\n",
       "      <td>0</td>\n",
       "      <td>False</td>\n",
       "      <td>True</td>\n",
       "    </tr>\n",
       "    <tr>\n",
       "      <th>3</th>\n",
       "      <td>dsgdb9nsd_018373</td>\n",
       "      <td>O3C5H8</td>\n",
       "      <td>0.672</td>\n",
       "      <td>1.426</td>\n",
       "      <td>0.935</td>\n",
       "      <td>1.497668</td>\n",
       "      <td>-420.978410</td>\n",
       "      <td>0</td>\n",
       "      <td>False</td>\n",
       "      <td>True</td>\n",
       "    </tr>\n",
       "    <tr>\n",
       "      <th>4</th>\n",
       "      <td>dsgdb9nsd_057826</td>\n",
       "      <td>ON2C6H6</td>\n",
       "      <td>-4.660</td>\n",
       "      <td>3.133</td>\n",
       "      <td>0.000</td>\n",
       "      <td>3.159225</td>\n",
       "      <td>-416.926440</td>\n",
       "      <td>1</td>\n",
       "      <td>False</td>\n",
       "      <td>True</td>\n",
       "    </tr>\n",
       "  </tbody>\n",
       "</table>\n",
       "</div>"
      ],
      "text/plain": [
       "      molecule_name molecule_formula      X      Y      Z  d_to_center  \\\n",
       "0  dsgdb9nsd_086753           ONC7H9  4.898  0.301 -0.185     2.889108   \n",
       "1  dsgdb9nsd_053724         O2N2C5H2 -3.581  0.563  3.536     2.948906   \n",
       "2  dsgdb9nsd_115995         ON2C6H10 -0.881 -2.694 -0.180     2.005501   \n",
       "3  dsgdb9nsd_018373           O3C5H8  0.672  1.426  0.935     1.497668   \n",
       "4  dsgdb9nsd_057826          ON2C6H6 -4.660  3.133  0.000     3.159225   \n",
       "\n",
       "   potential_energy  0's among XYZ  centric_dipole_moment  \\\n",
       "0       -402.126372              0                  False   \n",
       "1       -451.613879              0                  False   \n",
       "2       -419.388262              0                  False   \n",
       "3       -420.978410              0                  False   \n",
       "4       -416.926440              1                  False   \n",
       "\n",
       "   distance_more_than_1A  \n",
       "0                   True  \n",
       "1                   True  \n",
       "2                   True  \n",
       "3                   True  \n",
       "4                   True  "
      ]
     },
     "execution_count": 25,
     "metadata": {},
     "output_type": "execute_result"
    }
   ],
   "source": [
    "import os\n",
    "from molmod import Molecule\n",
    "xyzFiles = os.listdir(CONFIG['dataset_path'] + '/champs-scalar-coupling/structures/')\n",
    "molecule_names = [name[:-4] for name in xyzFiles]\n",
    "molecule_formula_names = []\n",
    "\n",
    "for name in xyzFiles:\n",
    "    mol = Molecule.from_file(CONFIG['dataset_path'] + '/champs-scalar-coupling/structures/'+name)\n",
    "    molecule_formula_names.append(mol.chemical_formula)\n",
    "    \n",
    "molnames_df = pd.DataFrame({'molecule_name' : molecule_names, 'molecule_formula' : molecule_formula_names})  \n",
    "df = pd.merge(molnames_df, df, how='outer', on=['molecule_name'])\n",
    "df.head()"
   ]
  },
  {
   "cell_type": "markdown",
   "metadata": {},
   "source": [
    "<i>Q: why can't we add formula list to our dataframe directly?"
   ]
  },
  {
   "cell_type": "markdown",
   "metadata": {},
   "source": [
    "## Dataset description"
   ]
  },
  {
   "cell_type": "markdown",
   "metadata": {},
   "source": [
    "The `describe()` method shows basic statistical characteristics of each numerical feature: number of non-missing values, mean, standard deviation, range, 0.25, 0.5 and 0.75 quartiles. Notice, that describes works for numeric data only"
   ]
  },
  {
   "cell_type": "code",
   "execution_count": 26,
   "metadata": {},
   "outputs": [
    {
     "data": {
      "text/html": [
       "<div>\n",
       "<style scoped>\n",
       "    .dataframe tbody tr th:only-of-type {\n",
       "        vertical-align: middle;\n",
       "    }\n",
       "\n",
       "    .dataframe tbody tr th {\n",
       "        vertical-align: top;\n",
       "    }\n",
       "\n",
       "    .dataframe thead th {\n",
       "        text-align: right;\n",
       "    }\n",
       "</style>\n",
       "<table border=\"1\" class=\"dataframe\">\n",
       "  <thead>\n",
       "    <tr style=\"text-align: right;\">\n",
       "      <th></th>\n",
       "      <th>X</th>\n",
       "      <th>Y</th>\n",
       "      <th>Z</th>\n",
       "      <th>d_to_center</th>\n",
       "      <th>potential_energy</th>\n",
       "      <th>0's among XYZ</th>\n",
       "    </tr>\n",
       "  </thead>\n",
       "  <tbody>\n",
       "    <tr>\n",
       "      <th>count</th>\n",
       "      <td>130789.000000</td>\n",
       "      <td>130789.000000</td>\n",
       "      <td>130789.000000</td>\n",
       "      <td>130789.000000</td>\n",
       "      <td>130789.000000</td>\n",
       "      <td>130789.000000</td>\n",
       "    </tr>\n",
       "    <tr>\n",
       "      <th>mean</th>\n",
       "      <td>-0.009220</td>\n",
       "      <td>0.091772</td>\n",
       "      <td>0.252390</td>\n",
       "      <td>1.857309</td>\n",
       "      <td>-410.951413</td>\n",
       "      <td>0.110124</td>\n",
       "    </tr>\n",
       "    <tr>\n",
       "      <th>std</th>\n",
       "      <td>2.293274</td>\n",
       "      <td>1.737839</td>\n",
       "      <td>1.027703</td>\n",
       "      <td>0.714951</td>\n",
       "      <td>39.839916</td>\n",
       "      <td>0.338939</td>\n",
       "    </tr>\n",
       "    <tr>\n",
       "      <th>min</th>\n",
       "      <td>-22.958000</td>\n",
       "      <td>-9.252000</td>\n",
       "      <td>-6.028000</td>\n",
       "      <td>0.000000</td>\n",
       "      <td>-714.626197</td>\n",
       "      <td>0.000000</td>\n",
       "    </tr>\n",
       "    <tr>\n",
       "      <th>25%</th>\n",
       "      <td>-1.347000</td>\n",
       "      <td>-0.942000</td>\n",
       "      <td>-0.248000</td>\n",
       "      <td>1.355534</td>\n",
       "      <td>-438.002671</td>\n",
       "      <td>0.000000</td>\n",
       "    </tr>\n",
       "    <tr>\n",
       "      <th>50%</th>\n",
       "      <td>0.000000</td>\n",
       "      <td>0.081000</td>\n",
       "      <td>0.118000</td>\n",
       "      <td>1.830097</td>\n",
       "      <td>-416.920943</td>\n",
       "      <td>0.000000</td>\n",
       "    </tr>\n",
       "    <tr>\n",
       "      <th>75%</th>\n",
       "      <td>1.319000</td>\n",
       "      <td>1.161000</td>\n",
       "      <td>0.903000</td>\n",
       "      <td>2.347527</td>\n",
       "      <td>-387.221827</td>\n",
       "      <td>0.000000</td>\n",
       "    </tr>\n",
       "    <tr>\n",
       "      <th>max</th>\n",
       "      <td>29.549000</td>\n",
       "      <td>13.006000</td>\n",
       "      <td>7.696000</td>\n",
       "      <td>9.559394</td>\n",
       "      <td>-40.523680</td>\n",
       "      <td>3.000000</td>\n",
       "    </tr>\n",
       "  </tbody>\n",
       "</table>\n",
       "</div>"
      ],
      "text/plain": [
       "                   X              Y              Z    d_to_center  \\\n",
       "count  130789.000000  130789.000000  130789.000000  130789.000000   \n",
       "mean       -0.009220       0.091772       0.252390       1.857309   \n",
       "std         2.293274       1.737839       1.027703       0.714951   \n",
       "min       -22.958000      -9.252000      -6.028000       0.000000   \n",
       "25%        -1.347000      -0.942000      -0.248000       1.355534   \n",
       "50%         0.000000       0.081000       0.118000       1.830097   \n",
       "75%         1.319000       1.161000       0.903000       2.347527   \n",
       "max        29.549000      13.006000       7.696000       9.559394   \n",
       "\n",
       "       potential_energy  0's among XYZ  \n",
       "count     130789.000000  130789.000000  \n",
       "mean        -410.951413       0.110124  \n",
       "std           39.839916       0.338939  \n",
       "min         -714.626197       0.000000  \n",
       "25%         -438.002671       0.000000  \n",
       "50%         -416.920943       0.000000  \n",
       "75%         -387.221827       0.000000  \n",
       "max          -40.523680       3.000000  "
      ]
     },
     "execution_count": 26,
     "metadata": {},
     "output_type": "execute_result"
    }
   ],
   "source": [
    "df.describe()"
   ]
  },
  {
   "cell_type": "markdown",
   "metadata": {},
   "source": [
    "`describe()` method allows us to gather some insights about the data. We can see that the range of `X` values is much larger compared to `Y` and `Z`. The mean value of `0's among XYZ` column allows to suggest that the majority of XYZ values aren't equal to 0, despite close to zero mean and median values.<br>Notice the closeness between mean and median (50%) values for `d_to_center` and `potential_energy` columns. This is not always, but usually a good sign for normal distributions, as well as similar shoulders for 25% and 75% quartiles."
   ]
  },
  {
   "cell_type": "markdown",
   "metadata": {},
   "source": [
    "Basic histograms can be displayed using dataframe `hist()` method. Though we'll deal more with visualization in the following topics, let's take a peak on some of our distributions"
   ]
  },
  {
   "cell_type": "code",
   "execution_count": 27,
   "metadata": {},
   "outputs": [
    {
     "data": {
      "text/plain": [
       "array([[<AxesSubplot:title={'center':'d_to_center'}>,\n",
       "        <AxesSubplot:title={'center':'potential_energy'}>],\n",
       "       [<AxesSubplot:title={'center':\"0's among XYZ\"}>, <AxesSubplot:>]],\n",
       "      dtype=object)"
      ]
     },
     "execution_count": 27,
     "metadata": {},
     "output_type": "execute_result"
    },
    {
     "data": {
      "image/png": "[encoded data removed]",
      "text/plain": [
       "<Figure size 432x288 with 4 Axes>"
      ]
     },
     "metadata": {
      "needs_background": "light"
     },
     "output_type": "display_data"
    }
   ],
   "source": [
    "df.hist(column=['d_to_center','potential_energy','0\\'s among XYZ'], bins=20)"
   ]
  },
  {
   "cell_type": "markdown",
   "metadata": {},
   "source": [
    "As we've predicted earlier, `d_to_center` and `potential_energy` distributions seems to remind gaussians'."
   ]
  },
  {
   "cell_type": "markdown",
   "metadata": {},
   "source": [
    "For categorical (type object) and boolean (type bool) features we can use the ```value_counts()``` method to observe the distribution of a feature. With ```normalize=True``` parameter we can see fractions rather than frequencies"
   ]
  },
  {
   "cell_type": "code",
   "execution_count": 28,
   "metadata": {},
   "outputs": [
    {
     "data": {
      "text/plain": [
       "True     118570\n",
       "False     12219\n",
       "Name: distance_more_than_1A, dtype: int64"
      ]
     },
     "execution_count": 28,
     "metadata": {},
     "output_type": "execute_result"
    }
   ],
   "source": [
    "df['distance_more_than_1A'].value_counts()"
   ]
  },
  {
   "cell_type": "code",
   "execution_count": 29,
   "metadata": {},
   "outputs": [
    {
     "data": {
      "text/plain": [
       "True     0.906575\n",
       "False    0.093425\n",
       "Name: distance_more_than_1A, dtype: float64"
      ]
     },
     "execution_count": 29,
     "metadata": {},
     "output_type": "execute_result"
    }
   ],
   "source": [
    "df['distance_more_than_1A'].value_counts(normalize=True)"
   ]
  },
  {
   "cell_type": "code",
   "execution_count": 30,
   "metadata": {},
   "outputs": [
    {
     "data": {
      "text/plain": [
       "0    0.897637\n",
       "1    0.095283\n",
       "2    0.006400\n",
       "3    0.000680\n",
       "Name: 0's among XYZ, dtype: float64"
      ]
     },
     "execution_count": 30,
     "metadata": {},
     "output_type": "execute_result"
    }
   ],
   "source": [
    "df['0\\'s among XYZ'].value_counts(normalize=True)"
   ]
  },
  {
   "cell_type": "markdown",
   "metadata": {},
   "source": [
    "# Sorting"
   ]
  },
  {
   "cell_type": "markdown",
   "metadata": {},
   "source": [
    "Dataframes can be sorted by one or multiple columns in ascending or descending order."
   ]
  },
  {
   "cell_type": "code",
   "execution_count": 31,
   "metadata": {},
   "outputs": [
    {
     "data": {
      "text/html": [
       "<div>\n",
       "<style scoped>\n",
       "    .dataframe tbody tr th:only-of-type {\n",
       "        vertical-align: middle;\n",
       "    }\n",
       "\n",
       "    .dataframe tbody tr th {\n",
       "        vertical-align: top;\n",
       "    }\n",
       "\n",
       "    .dataframe thead th {\n",
       "        text-align: right;\n",
       "    }\n",
       "</style>\n",
       "<table border=\"1\" class=\"dataframe\">\n",
       "  <thead>\n",
       "    <tr style=\"text-align: right;\">\n",
       "      <th></th>\n",
       "      <th>molecule_name</th>\n",
       "      <th>molecule_formula</th>\n",
       "      <th>X</th>\n",
       "      <th>Y</th>\n",
       "      <th>Z</th>\n",
       "      <th>d_to_center</th>\n",
       "      <th>potential_energy</th>\n",
       "      <th>0's among XYZ</th>\n",
       "      <th>centric_dipole_moment</th>\n",
       "      <th>distance_more_than_1A</th>\n",
       "    </tr>\n",
       "  </thead>\n",
       "  <tbody>\n",
       "    <tr>\n",
       "      <th>10271</th>\n",
       "      <td>dsgdb9nsd_000001</td>\n",
       "      <td>CH4</td>\n",
       "      <td>0.0</td>\n",
       "      <td>0.0</td>\n",
       "      <td>0.000</td>\n",
       "      <td>0.000000</td>\n",
       "      <td>-40.523680</td>\n",
       "      <td>3</td>\n",
       "      <td>True</td>\n",
       "      <td>False</td>\n",
       "    </tr>\n",
       "    <tr>\n",
       "      <th>77327</th>\n",
       "      <td>dsgdb9nsd_000002</td>\n",
       "      <td>NH3</td>\n",
       "      <td>-0.0</td>\n",
       "      <td>0.0</td>\n",
       "      <td>1.626</td>\n",
       "      <td>1.382761</td>\n",
       "      <td>-56.560246</td>\n",
       "      <td>2</td>\n",
       "      <td>False</td>\n",
       "      <td>True</td>\n",
       "    </tr>\n",
       "    <tr>\n",
       "      <th>3824</th>\n",
       "      <td>dsgdb9nsd_000003</td>\n",
       "      <td>OH2</td>\n",
       "      <td>0.0</td>\n",
       "      <td>0.0</td>\n",
       "      <td>-1.851</td>\n",
       "      <td>1.507547</td>\n",
       "      <td>-76.426077</td>\n",
       "      <td>2</td>\n",
       "      <td>False</td>\n",
       "      <td>True</td>\n",
       "    </tr>\n",
       "    <tr>\n",
       "      <th>57673</th>\n",
       "      <td>dsgdb9nsd_000004</td>\n",
       "      <td>C2H2</td>\n",
       "      <td>0.0</td>\n",
       "      <td>0.0</td>\n",
       "      <td>0.000</td>\n",
       "      <td>0.000000</td>\n",
       "      <td>-77.335268</td>\n",
       "      <td>3</td>\n",
       "      <td>True</td>\n",
       "      <td>False</td>\n",
       "    </tr>\n",
       "    <tr>\n",
       "      <th>77792</th>\n",
       "      <td>dsgdb9nsd_000007</td>\n",
       "      <td>C2H6</td>\n",
       "      <td>0.0</td>\n",
       "      <td>0.0</td>\n",
       "      <td>0.000</td>\n",
       "      <td>0.000000</td>\n",
       "      <td>-79.838694</td>\n",
       "      <td>3</td>\n",
       "      <td>True</td>\n",
       "      <td>False</td>\n",
       "    </tr>\n",
       "  </tbody>\n",
       "</table>\n",
       "</div>"
      ],
      "text/plain": [
       "          molecule_name molecule_formula    X    Y      Z  d_to_center  \\\n",
       "10271  dsgdb9nsd_000001              CH4  0.0  0.0  0.000     0.000000   \n",
       "77327  dsgdb9nsd_000002              NH3 -0.0  0.0  1.626     1.382761   \n",
       "3824   dsgdb9nsd_000003              OH2  0.0  0.0 -1.851     1.507547   \n",
       "57673  dsgdb9nsd_000004             C2H2  0.0  0.0  0.000     0.000000   \n",
       "77792  dsgdb9nsd_000007             C2H6  0.0  0.0  0.000     0.000000   \n",
       "\n",
       "       potential_energy  0's among XYZ  centric_dipole_moment  \\\n",
       "10271        -40.523680              3                   True   \n",
       "77327        -56.560246              2                  False   \n",
       "3824         -76.426077              2                  False   \n",
       "57673        -77.335268              3                   True   \n",
       "77792        -79.838694              3                   True   \n",
       "\n",
       "       distance_more_than_1A  \n",
       "10271                  False  \n",
       "77327                   True  \n",
       "3824                    True  \n",
       "57673                  False  \n",
       "77792                  False  "
      ]
     },
     "execution_count": 31,
     "metadata": {},
     "output_type": "execute_result"
    }
   ],
   "source": [
    "df.sort_values(by='potential_energy', ascending=False).head()"
   ]
  },
  {
   "cell_type": "code",
   "execution_count": 32,
   "metadata": {},
   "outputs": [
    {
     "data": {
      "text/html": [
       "<div>\n",
       "<style scoped>\n",
       "    .dataframe tbody tr th:only-of-type {\n",
       "        vertical-align: middle;\n",
       "    }\n",
       "\n",
       "    .dataframe tbody tr th {\n",
       "        vertical-align: top;\n",
       "    }\n",
       "\n",
       "    .dataframe thead th {\n",
       "        text-align: right;\n",
       "    }\n",
       "</style>\n",
       "<table border=\"1\" class=\"dataframe\">\n",
       "  <thead>\n",
       "    <tr style=\"text-align: right;\">\n",
       "      <th></th>\n",
       "      <th>molecule_name</th>\n",
       "      <th>molecule_formula</th>\n",
       "      <th>X</th>\n",
       "      <th>Y</th>\n",
       "      <th>Z</th>\n",
       "      <th>d_to_center</th>\n",
       "      <th>potential_energy</th>\n",
       "      <th>0's among XYZ</th>\n",
       "      <th>centric_dipole_moment</th>\n",
       "      <th>distance_more_than_1A</th>\n",
       "    </tr>\n",
       "  </thead>\n",
       "  <tbody>\n",
       "    <tr>\n",
       "      <th>57673</th>\n",
       "      <td>dsgdb9nsd_000004</td>\n",
       "      <td>C2H2</td>\n",
       "      <td>0.000</td>\n",
       "      <td>0.00</td>\n",
       "      <td>0.0</td>\n",
       "      <td>0.000000</td>\n",
       "      <td>-77.335268</td>\n",
       "      <td>3</td>\n",
       "      <td>True</td>\n",
       "      <td>False</td>\n",
       "    </tr>\n",
       "    <tr>\n",
       "      <th>77792</th>\n",
       "      <td>dsgdb9nsd_000007</td>\n",
       "      <td>C2H6</td>\n",
       "      <td>0.000</td>\n",
       "      <td>0.00</td>\n",
       "      <td>0.0</td>\n",
       "      <td>0.000000</td>\n",
       "      <td>-79.838694</td>\n",
       "      <td>3</td>\n",
       "      <td>True</td>\n",
       "      <td>False</td>\n",
       "    </tr>\n",
       "    <tr>\n",
       "      <th>105107</th>\n",
       "      <td>dsgdb9nsd_000009</td>\n",
       "      <td>C3H4</td>\n",
       "      <td>0.716</td>\n",
       "      <td>0.00</td>\n",
       "      <td>-0.0</td>\n",
       "      <td>0.800342</td>\n",
       "      <td>-116.664959</td>\n",
       "      <td>2</td>\n",
       "      <td>False</td>\n",
       "      <td>False</td>\n",
       "    </tr>\n",
       "    <tr>\n",
       "      <th>25761</th>\n",
       "      <td>dsgdb9nsd_000016</td>\n",
       "      <td>C3H6</td>\n",
       "      <td>0.000</td>\n",
       "      <td>0.00</td>\n",
       "      <td>0.0</td>\n",
       "      <td>0.000000</td>\n",
       "      <td>-117.906029</td>\n",
       "      <td>3</td>\n",
       "      <td>True</td>\n",
       "      <td>False</td>\n",
       "    </tr>\n",
       "    <tr>\n",
       "      <th>33779</th>\n",
       "      <td>dsgdb9nsd_000013</td>\n",
       "      <td>C3H8</td>\n",
       "      <td>0.000</td>\n",
       "      <td>0.06</td>\n",
       "      <td>0.0</td>\n",
       "      <td>0.153262</td>\n",
       "      <td>-119.155657</td>\n",
       "      <td>2</td>\n",
       "      <td>False</td>\n",
       "      <td>False</td>\n",
       "    </tr>\n",
       "  </tbody>\n",
       "</table>\n",
       "</div>"
      ],
      "text/plain": [
       "           molecule_name molecule_formula      X     Y    Z  d_to_center  \\\n",
       "57673   dsgdb9nsd_000004             C2H2  0.000  0.00  0.0     0.000000   \n",
       "77792   dsgdb9nsd_000007             C2H6  0.000  0.00  0.0     0.000000   \n",
       "105107  dsgdb9nsd_000009             C3H4  0.716  0.00 -0.0     0.800342   \n",
       "25761   dsgdb9nsd_000016             C3H6  0.000  0.00  0.0     0.000000   \n",
       "33779   dsgdb9nsd_000013             C3H8  0.000  0.06  0.0     0.153262   \n",
       "\n",
       "        potential_energy  0's among XYZ  centric_dipole_moment  \\\n",
       "57673         -77.335268              3                   True   \n",
       "77792         -79.838694              3                   True   \n",
       "105107       -116.664959              2                  False   \n",
       "25761        -117.906029              3                   True   \n",
       "33779        -119.155657              2                  False   \n",
       "\n",
       "        distance_more_than_1A  \n",
       "57673                   False  \n",
       "77792                   False  \n",
       "105107                  False  \n",
       "25761                   False  \n",
       "33779                   False  "
      ]
     },
     "execution_count": 32,
     "metadata": {},
     "output_type": "execute_result"
    }
   ],
   "source": [
    "df.sort_values(by=['molecule_formula', 'd_to_center']).head()"
   ]
  },
  {
   "cell_type": "markdown",
   "metadata": {},
   "source": [
    "After merging our dataframe index became broken. We'll fix that by setting the index once again and sorting by the molecule index afterwards"
   ]
  },
  {
   "cell_type": "code",
   "execution_count": 33,
   "metadata": {},
   "outputs": [
    {
     "data": {
      "text/html": [
       "<div>\n",
       "<style scoped>\n",
       "    .dataframe tbody tr th:only-of-type {\n",
       "        vertical-align: middle;\n",
       "    }\n",
       "\n",
       "    .dataframe tbody tr th {\n",
       "        vertical-align: top;\n",
       "    }\n",
       "\n",
       "    .dataframe thead th {\n",
       "        text-align: right;\n",
       "    }\n",
       "</style>\n",
       "<table border=\"1\" class=\"dataframe\">\n",
       "  <thead>\n",
       "    <tr style=\"text-align: right;\">\n",
       "      <th></th>\n",
       "      <th>molecule_formula</th>\n",
       "      <th>X</th>\n",
       "      <th>Y</th>\n",
       "      <th>Z</th>\n",
       "      <th>d_to_center</th>\n",
       "      <th>potential_energy</th>\n",
       "      <th>0's among XYZ</th>\n",
       "      <th>centric_dipole_moment</th>\n",
       "      <th>distance_more_than_1A</th>\n",
       "    </tr>\n",
       "    <tr>\n",
       "      <th>molecule_name</th>\n",
       "      <th></th>\n",
       "      <th></th>\n",
       "      <th></th>\n",
       "      <th></th>\n",
       "      <th></th>\n",
       "      <th></th>\n",
       "      <th></th>\n",
       "      <th></th>\n",
       "      <th></th>\n",
       "    </tr>\n",
       "  </thead>\n",
       "  <tbody>\n",
       "    <tr>\n",
       "      <th>dsgdb9nsd_000001</th>\n",
       "      <td>CH4</td>\n",
       "      <td>0.0</td>\n",
       "      <td>0.0</td>\n",
       "      <td>0.000</td>\n",
       "      <td>0.000000</td>\n",
       "      <td>-40.523680</td>\n",
       "      <td>3</td>\n",
       "      <td>True</td>\n",
       "      <td>False</td>\n",
       "    </tr>\n",
       "    <tr>\n",
       "      <th>dsgdb9nsd_000002</th>\n",
       "      <td>NH3</td>\n",
       "      <td>-0.0</td>\n",
       "      <td>0.0</td>\n",
       "      <td>1.626</td>\n",
       "      <td>1.382761</td>\n",
       "      <td>-56.560246</td>\n",
       "      <td>2</td>\n",
       "      <td>False</td>\n",
       "      <td>True</td>\n",
       "    </tr>\n",
       "    <tr>\n",
       "      <th>dsgdb9nsd_000003</th>\n",
       "      <td>OH2</td>\n",
       "      <td>0.0</td>\n",
       "      <td>0.0</td>\n",
       "      <td>-1.851</td>\n",
       "      <td>1.507547</td>\n",
       "      <td>-76.426077</td>\n",
       "      <td>2</td>\n",
       "      <td>False</td>\n",
       "      <td>True</td>\n",
       "    </tr>\n",
       "    <tr>\n",
       "      <th>dsgdb9nsd_000004</th>\n",
       "      <td>C2H2</td>\n",
       "      <td>0.0</td>\n",
       "      <td>0.0</td>\n",
       "      <td>0.000</td>\n",
       "      <td>0.000000</td>\n",
       "      <td>-77.335268</td>\n",
       "      <td>3</td>\n",
       "      <td>True</td>\n",
       "      <td>False</td>\n",
       "    </tr>\n",
       "    <tr>\n",
       "      <th>dsgdb9nsd_000005</th>\n",
       "      <td>NCH</td>\n",
       "      <td>0.0</td>\n",
       "      <td>0.0</td>\n",
       "      <td>-2.894</td>\n",
       "      <td>2.030793</td>\n",
       "      <td>-93.428488</td>\n",
       "      <td>2</td>\n",
       "      <td>False</td>\n",
       "      <td>True</td>\n",
       "    </tr>\n",
       "  </tbody>\n",
       "</table>\n",
       "</div>"
      ],
      "text/plain": [
       "                 molecule_formula    X    Y      Z  d_to_center  \\\n",
       "molecule_name                                                     \n",
       "dsgdb9nsd_000001              CH4  0.0  0.0  0.000     0.000000   \n",
       "dsgdb9nsd_000002              NH3 -0.0  0.0  1.626     1.382761   \n",
       "dsgdb9nsd_000003              OH2  0.0  0.0 -1.851     1.507547   \n",
       "dsgdb9nsd_000004             C2H2  0.0  0.0  0.000     0.000000   \n",
       "dsgdb9nsd_000005              NCH  0.0  0.0 -2.894     2.030793   \n",
       "\n",
       "                  potential_energy  0's among XYZ  centric_dipole_moment  \\\n",
       "molecule_name                                                              \n",
       "dsgdb9nsd_000001        -40.523680              3                   True   \n",
       "dsgdb9nsd_000002        -56.560246              2                  False   \n",
       "dsgdb9nsd_000003        -76.426077              2                  False   \n",
       "dsgdb9nsd_000004        -77.335268              3                   True   \n",
       "dsgdb9nsd_000005        -93.428488              2                  False   \n",
       "\n",
       "                  distance_more_than_1A  \n",
       "molecule_name                            \n",
       "dsgdb9nsd_000001                  False  \n",
       "dsgdb9nsd_000002                   True  \n",
       "dsgdb9nsd_000003                   True  \n",
       "dsgdb9nsd_000004                  False  \n",
       "dsgdb9nsd_000005                   True  "
      ]
     },
     "execution_count": 33,
     "metadata": {},
     "output_type": "execute_result"
    }
   ],
   "source": [
    "df.set_index('molecule_name', inplace = True)\n",
    "df.sort_index(inplace = True)\n",
    "df.head()"
   ]
  },
  {
   "cell_type": "markdown",
   "metadata": {},
   "source": [
    "## Filtering"
   ]
  },
  {
   "cell_type": "markdown",
   "metadata": {},
   "source": [
    "We've touched already filtering briefly in conditional operations part. Basicaly, what we've done was filtered sub-dataframe and provided an operation on it. Let's take a look at flat centered (Z == 0), but unsymmetrical molecules (either X != 0 or Y != 0):"
   ]
  },
  {
   "cell_type": "code",
   "execution_count": 34,
   "metadata": {},
   "outputs": [
    {
     "data": {
      "text/html": [
       "<div>\n",
       "<style scoped>\n",
       "    .dataframe tbody tr th:only-of-type {\n",
       "        vertical-align: middle;\n",
       "    }\n",
       "\n",
       "    .dataframe tbody tr th {\n",
       "        vertical-align: top;\n",
       "    }\n",
       "\n",
       "    .dataframe thead th {\n",
       "        text-align: right;\n",
       "    }\n",
       "</style>\n",
       "<table border=\"1\" class=\"dataframe\">\n",
       "  <thead>\n",
       "    <tr style=\"text-align: right;\">\n",
       "      <th></th>\n",
       "      <th>molecule_formula</th>\n",
       "      <th>X</th>\n",
       "      <th>Y</th>\n",
       "      <th>Z</th>\n",
       "      <th>d_to_center</th>\n",
       "      <th>potential_energy</th>\n",
       "      <th>0's among XYZ</th>\n",
       "      <th>centric_dipole_moment</th>\n",
       "      <th>distance_more_than_1A</th>\n",
       "    </tr>\n",
       "    <tr>\n",
       "      <th>molecule_name</th>\n",
       "      <th></th>\n",
       "      <th></th>\n",
       "      <th></th>\n",
       "      <th></th>\n",
       "      <th></th>\n",
       "      <th></th>\n",
       "      <th></th>\n",
       "      <th></th>\n",
       "      <th></th>\n",
       "    </tr>\n",
       "  </thead>\n",
       "  <tbody>\n",
       "    <tr>\n",
       "      <th>dsgdb9nsd_000006</th>\n",
       "      <td>OCH2</td>\n",
       "      <td>-2.109</td>\n",
       "      <td>0.000</td>\n",
       "      <td>0.0</td>\n",
       "      <td>1.644565</td>\n",
       "      <td>-114.510216</td>\n",
       "      <td>2</td>\n",
       "      <td>False</td>\n",
       "      <td>True</td>\n",
       "    </tr>\n",
       "    <tr>\n",
       "      <th>dsgdb9nsd_000008</th>\n",
       "      <td>OCH4</td>\n",
       "      <td>0.651</td>\n",
       "      <td>-1.380</td>\n",
       "      <td>-0.0</td>\n",
       "      <td>1.325379</td>\n",
       "      <td>-115.730344</td>\n",
       "      <td>1</td>\n",
       "      <td>False</td>\n",
       "      <td>True</td>\n",
       "    </tr>\n",
       "    <tr>\n",
       "      <th>dsgdb9nsd_000009</th>\n",
       "      <td>C3H4</td>\n",
       "      <td>0.716</td>\n",
       "      <td>0.000</td>\n",
       "      <td>-0.0</td>\n",
       "      <td>0.800342</td>\n",
       "      <td>-116.664959</td>\n",
       "      <td>2</td>\n",
       "      <td>False</td>\n",
       "      <td>False</td>\n",
       "    </tr>\n",
       "    <tr>\n",
       "      <th>dsgdb9nsd_000010</th>\n",
       "      <td>NC2H3</td>\n",
       "      <td>3.827</td>\n",
       "      <td>0.000</td>\n",
       "      <td>-0.0</td>\n",
       "      <td>2.446653</td>\n",
       "      <td>-132.763436</td>\n",
       "      <td>2</td>\n",
       "      <td>False</td>\n",
       "      <td>True</td>\n",
       "    </tr>\n",
       "    <tr>\n",
       "      <th>dsgdb9nsd_000011</th>\n",
       "      <td>OC2H4</td>\n",
       "      <td>2.360</td>\n",
       "      <td>1.012</td>\n",
       "      <td>0.0</td>\n",
       "      <td>1.875185</td>\n",
       "      <td>-153.842968</td>\n",
       "      <td>1</td>\n",
       "      <td>False</td>\n",
       "      <td>True</td>\n",
       "    </tr>\n",
       "    <tr>\n",
       "      <th>...</th>\n",
       "      <td>...</td>\n",
       "      <td>...</td>\n",
       "      <td>...</td>\n",
       "      <td>...</td>\n",
       "      <td>...</td>\n",
       "      <td>...</td>\n",
       "      <td>...</td>\n",
       "      <td>...</td>\n",
       "      <td>...</td>\n",
       "    </tr>\n",
       "    <tr>\n",
       "      <th>dsgdb9nsd_133880</th>\n",
       "      <td>OC8H8</td>\n",
       "      <td>0.131</td>\n",
       "      <td>-1.371</td>\n",
       "      <td>-0.0</td>\n",
       "      <td>1.237867</td>\n",
       "      <td>-384.749315</td>\n",
       "      <td>1</td>\n",
       "      <td>False</td>\n",
       "      <td>True</td>\n",
       "    </tr>\n",
       "    <tr>\n",
       "      <th>dsgdb9nsd_133882</th>\n",
       "      <td>ONC7H7</td>\n",
       "      <td>-0.371</td>\n",
       "      <td>-1.244</td>\n",
       "      <td>0.0</td>\n",
       "      <td>1.190004</td>\n",
       "      <td>-400.757209</td>\n",
       "      <td>1</td>\n",
       "      <td>False</td>\n",
       "      <td>True</td>\n",
       "    </tr>\n",
       "    <tr>\n",
       "      <th>dsgdb9nsd_133883</th>\n",
       "      <td>N2C7H8</td>\n",
       "      <td>-0.436</td>\n",
       "      <td>1.169</td>\n",
       "      <td>-0.0</td>\n",
       "      <td>1.158949</td>\n",
       "      <td>-380.894376</td>\n",
       "      <td>1</td>\n",
       "      <td>False</td>\n",
       "      <td>True</td>\n",
       "    </tr>\n",
       "    <tr>\n",
       "      <th>dsgdb9nsd_133884</th>\n",
       "      <td>NC8H9</td>\n",
       "      <td>1.362</td>\n",
       "      <td>1.406</td>\n",
       "      <td>-0.0</td>\n",
       "      <td>1.564843</td>\n",
       "      <td>-364.872596</td>\n",
       "      <td>1</td>\n",
       "      <td>False</td>\n",
       "      <td>True</td>\n",
       "    </tr>\n",
       "    <tr>\n",
       "      <th>dsgdb9nsd_133885</th>\n",
       "      <td>ONC7H7</td>\n",
       "      <td>-0.858</td>\n",
       "      <td>-0.091</td>\n",
       "      <td>-0.0</td>\n",
       "      <td>0.906312</td>\n",
       "      <td>-400.760914</td>\n",
       "      <td>1</td>\n",
       "      <td>False</td>\n",
       "      <td>False</td>\n",
       "    </tr>\n",
       "  </tbody>\n",
       "</table>\n",
       "<p>10605 rows × 9 columns</p>\n",
       "</div>"
      ],
      "text/plain": [
       "                 molecule_formula      X      Y    Z  d_to_center  \\\n",
       "molecule_name                                                       \n",
       "dsgdb9nsd_000006             OCH2 -2.109  0.000  0.0     1.644565   \n",
       "dsgdb9nsd_000008             OCH4  0.651 -1.380 -0.0     1.325379   \n",
       "dsgdb9nsd_000009             C3H4  0.716  0.000 -0.0     0.800342   \n",
       "dsgdb9nsd_000010            NC2H3  3.827  0.000 -0.0     2.446653   \n",
       "dsgdb9nsd_000011            OC2H4  2.360  1.012  0.0     1.875185   \n",
       "...                           ...    ...    ...  ...          ...   \n",
       "dsgdb9nsd_133880            OC8H8  0.131 -1.371 -0.0     1.237867   \n",
       "dsgdb9nsd_133882           ONC7H7 -0.371 -1.244  0.0     1.190004   \n",
       "dsgdb9nsd_133883           N2C7H8 -0.436  1.169 -0.0     1.158949   \n",
       "dsgdb9nsd_133884            NC8H9  1.362  1.406 -0.0     1.564843   \n",
       "dsgdb9nsd_133885           ONC7H7 -0.858 -0.091 -0.0     0.906312   \n",
       "\n",
       "                  potential_energy  0's among XYZ  centric_dipole_moment  \\\n",
       "molecule_name                                                              \n",
       "dsgdb9nsd_000006       -114.510216              2                  False   \n",
       "dsgdb9nsd_000008       -115.730344              1                  False   \n",
       "dsgdb9nsd_000009       -116.664959              2                  False   \n",
       "dsgdb9nsd_000010       -132.763436              2                  False   \n",
       "dsgdb9nsd_000011       -153.842968              1                  False   \n",
       "...                            ...            ...                    ...   \n",
       "dsgdb9nsd_133880       -384.749315              1                  False   \n",
       "dsgdb9nsd_133882       -400.757209              1                  False   \n",
       "dsgdb9nsd_133883       -380.894376              1                  False   \n",
       "dsgdb9nsd_133884       -364.872596              1                  False   \n",
       "dsgdb9nsd_133885       -400.760914              1                  False   \n",
       "\n",
       "                  distance_more_than_1A  \n",
       "molecule_name                            \n",
       "dsgdb9nsd_000006                   True  \n",
       "dsgdb9nsd_000008                   True  \n",
       "dsgdb9nsd_000009                  False  \n",
       "dsgdb9nsd_000010                   True  \n",
       "dsgdb9nsd_000011                   True  \n",
       "...                                 ...  \n",
       "dsgdb9nsd_133880                   True  \n",
       "dsgdb9nsd_133882                   True  \n",
       "dsgdb9nsd_133883                   True  \n",
       "dsgdb9nsd_133884                   True  \n",
       "dsgdb9nsd_133885                  False  \n",
       "\n",
       "[10605 rows x 9 columns]"
      ]
     },
     "execution_count": 34,
     "metadata": {},
     "output_type": "execute_result"
    }
   ],
   "source": [
    "df[((df['X'] != 0) | (df['Y'] != 0)) & (df['Z']==0)]"
   ]
  },
  {
   "cell_type": "markdown",
   "metadata": {},
   "source": [
    "Most of the molecules in the dataset might have isomers. Let's filter out those who doesn't:"
   ]
  },
  {
   "cell_type": "code",
   "execution_count": 35,
   "metadata": {},
   "outputs": [
    {
     "data": {
      "text/html": [
       "<div>\n",
       "<style scoped>\n",
       "    .dataframe tbody tr th:only-of-type {\n",
       "        vertical-align: middle;\n",
       "    }\n",
       "\n",
       "    .dataframe tbody tr th {\n",
       "        vertical-align: top;\n",
       "    }\n",
       "\n",
       "    .dataframe thead th {\n",
       "        text-align: right;\n",
       "    }\n",
       "</style>\n",
       "<table border=\"1\" class=\"dataframe\">\n",
       "  <thead>\n",
       "    <tr style=\"text-align: right;\">\n",
       "      <th></th>\n",
       "      <th>molecule_formula</th>\n",
       "      <th>X</th>\n",
       "      <th>Y</th>\n",
       "      <th>Z</th>\n",
       "      <th>d_to_center</th>\n",
       "      <th>potential_energy</th>\n",
       "      <th>0's among XYZ</th>\n",
       "      <th>centric_dipole_moment</th>\n",
       "      <th>distance_more_than_1A</th>\n",
       "    </tr>\n",
       "    <tr>\n",
       "      <th>molecule_name</th>\n",
       "      <th></th>\n",
       "      <th></th>\n",
       "      <th></th>\n",
       "      <th></th>\n",
       "      <th></th>\n",
       "      <th></th>\n",
       "      <th></th>\n",
       "      <th></th>\n",
       "      <th></th>\n",
       "    </tr>\n",
       "  </thead>\n",
       "  <tbody>\n",
       "    <tr>\n",
       "      <th>dsgdb9nsd_000001</th>\n",
       "      <td>CH4</td>\n",
       "      <td>0.000</td>\n",
       "      <td>0.000</td>\n",
       "      <td>0.000</td>\n",
       "      <td>0.000000</td>\n",
       "      <td>-40.523680</td>\n",
       "      <td>3</td>\n",
       "      <td>True</td>\n",
       "      <td>False</td>\n",
       "    </tr>\n",
       "    <tr>\n",
       "      <th>dsgdb9nsd_000002</th>\n",
       "      <td>NH3</td>\n",
       "      <td>-0.000</td>\n",
       "      <td>0.000</td>\n",
       "      <td>1.626</td>\n",
       "      <td>1.382761</td>\n",
       "      <td>-56.560246</td>\n",
       "      <td>2</td>\n",
       "      <td>False</td>\n",
       "      <td>True</td>\n",
       "    </tr>\n",
       "    <tr>\n",
       "      <th>dsgdb9nsd_000003</th>\n",
       "      <td>OH2</td>\n",
       "      <td>0.000</td>\n",
       "      <td>0.000</td>\n",
       "      <td>-1.851</td>\n",
       "      <td>1.507547</td>\n",
       "      <td>-76.426077</td>\n",
       "      <td>2</td>\n",
       "      <td>False</td>\n",
       "      <td>True</td>\n",
       "    </tr>\n",
       "    <tr>\n",
       "      <th>dsgdb9nsd_000004</th>\n",
       "      <td>C2H2</td>\n",
       "      <td>0.000</td>\n",
       "      <td>0.000</td>\n",
       "      <td>0.000</td>\n",
       "      <td>0.000000</td>\n",
       "      <td>-77.335268</td>\n",
       "      <td>3</td>\n",
       "      <td>True</td>\n",
       "      <td>False</td>\n",
       "    </tr>\n",
       "    <tr>\n",
       "      <th>dsgdb9nsd_000005</th>\n",
       "      <td>NCH</td>\n",
       "      <td>0.000</td>\n",
       "      <td>0.000</td>\n",
       "      <td>-2.894</td>\n",
       "      <td>2.030793</td>\n",
       "      <td>-93.428488</td>\n",
       "      <td>2</td>\n",
       "      <td>False</td>\n",
       "      <td>True</td>\n",
       "    </tr>\n",
       "    <tr>\n",
       "      <th>...</th>\n",
       "      <td>...</td>\n",
       "      <td>...</td>\n",
       "      <td>...</td>\n",
       "      <td>...</td>\n",
       "      <td>...</td>\n",
       "      <td>...</td>\n",
       "      <td>...</td>\n",
       "      <td>...</td>\n",
       "      <td>...</td>\n",
       "    </tr>\n",
       "    <tr>\n",
       "      <th>dsgdb9nsd_133622</th>\n",
       "      <td>F3OC5H9</td>\n",
       "      <td>1.503</td>\n",
       "      <td>-1.151</td>\n",
       "      <td>-1.646</td>\n",
       "      <td>1.846243</td>\n",
       "      <td>-570.748672</td>\n",
       "      <td>0</td>\n",
       "      <td>False</td>\n",
       "      <td>True</td>\n",
       "    </tr>\n",
       "    <tr>\n",
       "      <th>dsgdb9nsd_133652</th>\n",
       "      <td>F3N2C4H7</td>\n",
       "      <td>-1.276</td>\n",
       "      <td>-1.632</td>\n",
       "      <td>-0.002</td>\n",
       "      <td>1.625074</td>\n",
       "      <td>-565.689270</td>\n",
       "      <td>0</td>\n",
       "      <td>False</td>\n",
       "      <td>True</td>\n",
       "    </tr>\n",
       "    <tr>\n",
       "      <th>dsgdb9nsd_133655</th>\n",
       "      <td>F3NC5H10</td>\n",
       "      <td>-0.737</td>\n",
       "      <td>0.439</td>\n",
       "      <td>0.173</td>\n",
       "      <td>0.914904</td>\n",
       "      <td>-550.879699</td>\n",
       "      <td>0</td>\n",
       "      <td>False</td>\n",
       "      <td>False</td>\n",
       "    </tr>\n",
       "    <tr>\n",
       "      <th>dsgdb9nsd_133659</th>\n",
       "      <td>F3ONC4H8</td>\n",
       "      <td>-0.875</td>\n",
       "      <td>1.390</td>\n",
       "      <td>-1.004</td>\n",
       "      <td>1.547480</td>\n",
       "      <td>-586.779953</td>\n",
       "      <td>0</td>\n",
       "      <td>False</td>\n",
       "      <td>True</td>\n",
       "    </tr>\n",
       "    <tr>\n",
       "      <th>dsgdb9nsd_133660</th>\n",
       "      <td>F3O2C4H7</td>\n",
       "      <td>-1.852</td>\n",
       "      <td>0.606</td>\n",
       "      <td>-0.398</td>\n",
       "      <td>1.581498</td>\n",
       "      <td>-606.643955</td>\n",
       "      <td>0</td>\n",
       "      <td>False</td>\n",
       "      <td>True</td>\n",
       "    </tr>\n",
       "  </tbody>\n",
       "</table>\n",
       "<p>586 rows × 9 columns</p>\n",
       "</div>"
      ],
      "text/plain": [
       "                 molecule_formula      X      Y      Z  d_to_center  \\\n",
       "molecule_name                                                         \n",
       "dsgdb9nsd_000001              CH4  0.000  0.000  0.000     0.000000   \n",
       "dsgdb9nsd_000002              NH3 -0.000  0.000  1.626     1.382761   \n",
       "dsgdb9nsd_000003              OH2  0.000  0.000 -1.851     1.507547   \n",
       "dsgdb9nsd_000004             C2H2  0.000  0.000  0.000     0.000000   \n",
       "dsgdb9nsd_000005              NCH  0.000  0.000 -2.894     2.030793   \n",
       "...                           ...    ...    ...    ...          ...   \n",
       "dsgdb9nsd_133622          F3OC5H9  1.503 -1.151 -1.646     1.846243   \n",
       "dsgdb9nsd_133652         F3N2C4H7 -1.276 -1.632 -0.002     1.625074   \n",
       "dsgdb9nsd_133655         F3NC5H10 -0.737  0.439  0.173     0.914904   \n",
       "dsgdb9nsd_133659         F3ONC4H8 -0.875  1.390 -1.004     1.547480   \n",
       "dsgdb9nsd_133660         F3O2C4H7 -1.852  0.606 -0.398     1.581498   \n",
       "\n",
       "                  potential_energy  0's among XYZ  centric_dipole_moment  \\\n",
       "molecule_name                                                              \n",
       "dsgdb9nsd_000001        -40.523680              3                   True   \n",
       "dsgdb9nsd_000002        -56.560246              2                  False   \n",
       "dsgdb9nsd_000003        -76.426077              2                  False   \n",
       "dsgdb9nsd_000004        -77.335268              3                   True   \n",
       "dsgdb9nsd_000005        -93.428488              2                  False   \n",
       "...                            ...            ...                    ...   \n",
       "dsgdb9nsd_133622       -570.748672              0                  False   \n",
       "dsgdb9nsd_133652       -565.689270              0                  False   \n",
       "dsgdb9nsd_133655       -550.879699              0                  False   \n",
       "dsgdb9nsd_133659       -586.779953              0                  False   \n",
       "dsgdb9nsd_133660       -606.643955              0                  False   \n",
       "\n",
       "                  distance_more_than_1A  \n",
       "molecule_name                            \n",
       "dsgdb9nsd_000001                  False  \n",
       "dsgdb9nsd_000002                   True  \n",
       "dsgdb9nsd_000003                   True  \n",
       "dsgdb9nsd_000004                  False  \n",
       "dsgdb9nsd_000005                   True  \n",
       "...                                 ...  \n",
       "dsgdb9nsd_133622                   True  \n",
       "dsgdb9nsd_133652                   True  \n",
       "dsgdb9nsd_133655                  False  \n",
       "dsgdb9nsd_133659                   True  \n",
       "dsgdb9nsd_133660                   True  \n",
       "\n",
       "[586 rows x 9 columns]"
      ]
     },
     "execution_count": 35,
     "metadata": {},
     "output_type": "execute_result"
    }
   ],
   "source": [
    "df[df['molecule_formula'].duplicated() == False] "
   ]
  },
  {
   "cell_type": "markdown",
   "metadata": {},
   "source": [
    "From out of about 130K molecules in our dataset, only 586 don't have isomers. What else were we expecting from organic chemistry?"
   ]
  },
  {
   "cell_type": "markdown",
   "metadata": {},
   "source": [
    "In feature engineering part we've created some columns also based on filtering column values. Let's create a hydrocarbons boolean column based on regexing molecule_formula `^C\\d*H\\d*$`"
   ]
  },
  {
   "cell_type": "code",
   "execution_count": 36,
   "metadata": {},
   "outputs": [
    {
     "data": {
      "text/html": [
       "<div>\n",
       "<style scoped>\n",
       "    .dataframe tbody tr th:only-of-type {\n",
       "        vertical-align: middle;\n",
       "    }\n",
       "\n",
       "    .dataframe tbody tr th {\n",
       "        vertical-align: top;\n",
       "    }\n",
       "\n",
       "    .dataframe thead th {\n",
       "        text-align: right;\n",
       "    }\n",
       "</style>\n",
       "<table border=\"1\" class=\"dataframe\">\n",
       "  <thead>\n",
       "    <tr style=\"text-align: right;\">\n",
       "      <th></th>\n",
       "      <th>molecule_formula</th>\n",
       "      <th>X</th>\n",
       "      <th>Y</th>\n",
       "      <th>Z</th>\n",
       "      <th>d_to_center</th>\n",
       "      <th>potential_energy</th>\n",
       "      <th>0's among XYZ</th>\n",
       "      <th>centric_dipole_moment</th>\n",
       "      <th>distance_more_than_1A</th>\n",
       "      <th>is_hydrocarbon</th>\n",
       "    </tr>\n",
       "    <tr>\n",
       "      <th>molecule_name</th>\n",
       "      <th></th>\n",
       "      <th></th>\n",
       "      <th></th>\n",
       "      <th></th>\n",
       "      <th></th>\n",
       "      <th></th>\n",
       "      <th></th>\n",
       "      <th></th>\n",
       "      <th></th>\n",
       "      <th></th>\n",
       "    </tr>\n",
       "  </thead>\n",
       "  <tbody>\n",
       "    <tr>\n",
       "      <th>dsgdb9nsd_000001</th>\n",
       "      <td>CH4</td>\n",
       "      <td>0.0</td>\n",
       "      <td>0.0</td>\n",
       "      <td>0.000</td>\n",
       "      <td>0.000000</td>\n",
       "      <td>-40.523680</td>\n",
       "      <td>3</td>\n",
       "      <td>True</td>\n",
       "      <td>False</td>\n",
       "      <td>True</td>\n",
       "    </tr>\n",
       "    <tr>\n",
       "      <th>dsgdb9nsd_000002</th>\n",
       "      <td>NH3</td>\n",
       "      <td>-0.0</td>\n",
       "      <td>0.0</td>\n",
       "      <td>1.626</td>\n",
       "      <td>1.382761</td>\n",
       "      <td>-56.560246</td>\n",
       "      <td>2</td>\n",
       "      <td>False</td>\n",
       "      <td>True</td>\n",
       "      <td>False</td>\n",
       "    </tr>\n",
       "    <tr>\n",
       "      <th>dsgdb9nsd_000003</th>\n",
       "      <td>OH2</td>\n",
       "      <td>0.0</td>\n",
       "      <td>0.0</td>\n",
       "      <td>-1.851</td>\n",
       "      <td>1.507547</td>\n",
       "      <td>-76.426077</td>\n",
       "      <td>2</td>\n",
       "      <td>False</td>\n",
       "      <td>True</td>\n",
       "      <td>False</td>\n",
       "    </tr>\n",
       "  </tbody>\n",
       "</table>\n",
       "</div>"
      ],
      "text/plain": [
       "                 molecule_formula    X    Y      Z  d_to_center  \\\n",
       "molecule_name                                                     \n",
       "dsgdb9nsd_000001              CH4  0.0  0.0  0.000     0.000000   \n",
       "dsgdb9nsd_000002              NH3 -0.0  0.0  1.626     1.382761   \n",
       "dsgdb9nsd_000003              OH2  0.0  0.0 -1.851     1.507547   \n",
       "\n",
       "                  potential_energy  0's among XYZ  centric_dipole_moment  \\\n",
       "molecule_name                                                              \n",
       "dsgdb9nsd_000001        -40.523680              3                   True   \n",
       "dsgdb9nsd_000002        -56.560246              2                  False   \n",
       "dsgdb9nsd_000003        -76.426077              2                  False   \n",
       "\n",
       "                  distance_more_than_1A  is_hydrocarbon  \n",
       "molecule_name                                            \n",
       "dsgdb9nsd_000001                  False            True  \n",
       "dsgdb9nsd_000002                   True           False  \n",
       "dsgdb9nsd_000003                   True           False  "
      ]
     },
     "execution_count": 36,
     "metadata": {},
     "output_type": "execute_result"
    }
   ],
   "source": [
    "import re\n",
    "df['is_hydrocarbon'] = df['molecule_formula'].apply(lambda x: True if re.search(r'^C\\d*H\\d*$', x) else False)\n",
    "df.head(3)"
   ]
  },
  {
   "cell_type": "code",
   "execution_count": 37,
   "metadata": {},
   "outputs": [
    {
     "data": {
      "text/plain": [
       "False    0.962612\n",
       "True     0.037388\n",
       "Name: is_hydrocarbon, dtype: float64"
      ]
     },
     "execution_count": 37,
     "metadata": {},
     "output_type": "execute_result"
    }
   ],
   "source": [
    "df['is_hydrocarbon'].value_counts(normalize=True)"
   ]
  },
  {
   "cell_type": "markdown",
   "metadata": {},
   "source": [
    "Hydrocarbons are only 3.7% of the molecules in our dataframe. Let's quickly compare mean values for hydrocarbon and non-hydrocarbon classes"
   ]
  },
  {
   "cell_type": "code",
   "execution_count": 38,
   "metadata": {},
   "outputs": [
    {
     "data": {
      "text/html": [
       "<div>\n",
       "<style scoped>\n",
       "    .dataframe tbody tr th:only-of-type {\n",
       "        vertical-align: middle;\n",
       "    }\n",
       "\n",
       "    .dataframe tbody tr th {\n",
       "        vertical-align: top;\n",
       "    }\n",
       "\n",
       "    .dataframe thead th {\n",
       "        text-align: right;\n",
       "    }\n",
       "</style>\n",
       "<table border=\"1\" class=\"dataframe\">\n",
       "  <thead>\n",
       "    <tr style=\"text-align: right;\">\n",
       "      <th></th>\n",
       "      <th>X</th>\n",
       "      <th>Y</th>\n",
       "      <th>Z</th>\n",
       "      <th>d_to_center</th>\n",
       "      <th>potential_energy</th>\n",
       "      <th>0's among XYZ</th>\n",
       "      <th>centric_dipole_moment</th>\n",
       "      <th>distance_more_than_1A</th>\n",
       "      <th>is_hydrocarbon</th>\n",
       "    </tr>\n",
       "  </thead>\n",
       "  <tbody>\n",
       "    <tr>\n",
       "      <th>0</th>\n",
       "      <td>-0.004274</td>\n",
       "      <td>-0.015663</td>\n",
       "      <td>0.000103</td>\n",
       "      <td>0.459750</td>\n",
       "      <td>-338.797715</td>\n",
       "      <td>0.304703</td>\n",
       "      <td>0.009611</td>\n",
       "      <td>0.035992</td>\n",
       "      <td>1.0</td>\n",
       "    </tr>\n",
       "    <tr>\n",
       "      <th>1</th>\n",
       "      <td>-0.009412</td>\n",
       "      <td>0.095945</td>\n",
       "      <td>0.262189</td>\n",
       "      <td>1.911591</td>\n",
       "      <td>-413.753910</td>\n",
       "      <td>0.102566</td>\n",
       "      <td>0.000334</td>\n",
       "      <td>0.940389</td>\n",
       "      <td>0.0</td>\n",
       "    </tr>\n",
       "  </tbody>\n",
       "</table>\n",
       "</div>"
      ],
      "text/plain": [
       "          X         Y         Z  d_to_center  potential_energy  0's among XYZ  \\\n",
       "0 -0.004274 -0.015663  0.000103     0.459750       -338.797715       0.304703   \n",
       "1 -0.009412  0.095945  0.262189     1.911591       -413.753910       0.102566   \n",
       "\n",
       "   centric_dipole_moment  distance_more_than_1A  is_hydrocarbon  \n",
       "0               0.009611               0.035992             1.0  \n",
       "1               0.000334               0.940389             0.0  "
      ]
     },
     "execution_count": 38,
     "metadata": {},
     "output_type": "execute_result"
    }
   ],
   "source": [
    "pd.DataFrame([df[df['is_hydrocarbon']].mean(), df[df['is_hydrocarbon'] == False].mean()])"
   ]
  },
  {
   "cell_type": "markdown",
   "metadata": {},
   "source": [
    "As you may see, hydrocarbon and non-hydrocarbon properties differ significantly"
   ]
  },
  {
   "cell_type": "markdown",
   "metadata": {},
   "source": [
    "## Grouping "
   ]
  },
  {
   "cell_type": "markdown",
   "metadata": {},
   "source": [
    "Generally speaking, grouping data in Pandas works as follows:\n",
    "\n",
    "`df.groupby(by=grouping_columns)[columns_to_show].function()`\n",
    "\n",
    "First, the groupby method aggreagtes the `grouping_columns` by their values. They become a new index in the resulting dataframe.\n",
    "<br>Second, columns of interest are selected (`columns_to_show`). If `columns_to_show` is not included, all non-groupby clauses will be included.\n",
    "<br>Finally, one or several `functions()` are applied to the obtained groups per selected columns\n",
    "\n",
    "Let's group by `0\\'s among XYZ` column. Our column of interest will be `potential_energy`. We'll use `describe()` and `agg()` methods to display grouped dataframe"
   ]
  },
  {
   "cell_type": "code",
   "execution_count": 39,
   "metadata": {},
   "outputs": [
    {
     "data": {
      "text/html": [
       "<div>\n",
       "<style scoped>\n",
       "    .dataframe tbody tr th:only-of-type {\n",
       "        vertical-align: middle;\n",
       "    }\n",
       "\n",
       "    .dataframe tbody tr th {\n",
       "        vertical-align: top;\n",
       "    }\n",
       "\n",
       "    .dataframe thead th {\n",
       "        text-align: right;\n",
       "    }\n",
       "</style>\n",
       "<table border=\"1\" class=\"dataframe\">\n",
       "  <thead>\n",
       "    <tr style=\"text-align: right;\">\n",
       "      <th></th>\n",
       "      <th>count</th>\n",
       "      <th>mean</th>\n",
       "      <th>std</th>\n",
       "      <th>min</th>\n",
       "      <th>25%</th>\n",
       "      <th>50%</th>\n",
       "      <th>95%</th>\n",
       "      <th>max</th>\n",
       "    </tr>\n",
       "    <tr>\n",
       "      <th>0's among XYZ</th>\n",
       "      <th></th>\n",
       "      <th></th>\n",
       "      <th></th>\n",
       "      <th></th>\n",
       "      <th></th>\n",
       "      <th></th>\n",
       "      <th></th>\n",
       "      <th></th>\n",
       "    </tr>\n",
       "  </thead>\n",
       "  <tbody>\n",
       "    <tr>\n",
       "      <th>0</th>\n",
       "      <td>117401.0</td>\n",
       "      <td>-411.914279</td>\n",
       "      <td>37.728132</td>\n",
       "      <td>-621.518935</td>\n",
       "      <td>-438.006785</td>\n",
       "      <td>-418.069144</td>\n",
       "      <td>-349.156269</td>\n",
       "      <td>-169.906067</td>\n",
       "    </tr>\n",
       "    <tr>\n",
       "      <th>1</th>\n",
       "      <td>12462.0</td>\n",
       "      <td>-405.027457</td>\n",
       "      <td>51.577235</td>\n",
       "      <td>-605.451536</td>\n",
       "      <td>-437.957794</td>\n",
       "      <td>-403.336145</td>\n",
       "      <td>-313.279659</td>\n",
       "      <td>-115.730344</td>\n",
       "    </tr>\n",
       "    <tr>\n",
       "      <th>2</th>\n",
       "      <td>837.0</td>\n",
       "      <td>-373.644027</td>\n",
       "      <td>70.458876</td>\n",
       "      <td>-714.626197</td>\n",
       "      <td>-422.026016</td>\n",
       "      <td>-382.568902</td>\n",
       "      <td>-262.102318</td>\n",
       "      <td>-56.560246</td>\n",
       "    </tr>\n",
       "    <tr>\n",
       "      <th>3</th>\n",
       "      <td>89.0</td>\n",
       "      <td>-321.167731</td>\n",
       "      <td>92.494747</td>\n",
       "      <td>-529.979032</td>\n",
       "      <td>-383.861809</td>\n",
       "      <td>-315.738777</td>\n",
       "      <td>-154.495456</td>\n",
       "      <td>-40.523680</td>\n",
       "    </tr>\n",
       "  </tbody>\n",
       "</table>\n",
       "</div>"
      ],
      "text/plain": [
       "                  count        mean        std         min         25%  \\\n",
       "0's among XYZ                                                            \n",
       "0              117401.0 -411.914279  37.728132 -621.518935 -438.006785   \n",
       "1               12462.0 -405.027457  51.577235 -605.451536 -437.957794   \n",
       "2                 837.0 -373.644027  70.458876 -714.626197 -422.026016   \n",
       "3                  89.0 -321.167731  92.494747 -529.979032 -383.861809   \n",
       "\n",
       "                      50%         95%         max  \n",
       "0's among XYZ                                      \n",
       "0             -418.069144 -349.156269 -169.906067  \n",
       "1             -403.336145 -313.279659 -115.730344  \n",
       "2             -382.568902 -262.102318  -56.560246  \n",
       "3             -315.738777 -154.495456  -40.523680  "
      ]
     },
     "execution_count": 39,
     "metadata": {},
     "output_type": "execute_result"
    }
   ],
   "source": [
    "df.groupby(['0\\'s among XYZ'])['potential_energy'].describe(percentiles=[0.25,0.95])"
   ]
  },
  {
   "cell_type": "code",
   "execution_count": 40,
   "metadata": {},
   "outputs": [
    {
     "data": {
      "text/html": [
       "<div>\n",
       "<style scoped>\n",
       "    .dataframe tbody tr th:only-of-type {\n",
       "        vertical-align: middle;\n",
       "    }\n",
       "\n",
       "    .dataframe tbody tr th {\n",
       "        vertical-align: top;\n",
       "    }\n",
       "\n",
       "    .dataframe thead th {\n",
       "        text-align: right;\n",
       "    }\n",
       "</style>\n",
       "<table border=\"1\" class=\"dataframe\">\n",
       "  <thead>\n",
       "    <tr style=\"text-align: right;\">\n",
       "      <th></th>\n",
       "      <th>mean</th>\n",
       "      <th>std</th>\n",
       "      <th>amin</th>\n",
       "      <th>amax</th>\n",
       "    </tr>\n",
       "    <tr>\n",
       "      <th>0's among XYZ</th>\n",
       "      <th></th>\n",
       "      <th></th>\n",
       "      <th></th>\n",
       "      <th></th>\n",
       "    </tr>\n",
       "  </thead>\n",
       "  <tbody>\n",
       "    <tr>\n",
       "      <th>0</th>\n",
       "      <td>-411.914279</td>\n",
       "      <td>37.728132</td>\n",
       "      <td>-621.518935</td>\n",
       "      <td>-169.906067</td>\n",
       "    </tr>\n",
       "    <tr>\n",
       "      <th>1</th>\n",
       "      <td>-405.027457</td>\n",
       "      <td>51.577235</td>\n",
       "      <td>-605.451536</td>\n",
       "      <td>-115.730344</td>\n",
       "    </tr>\n",
       "    <tr>\n",
       "      <th>2</th>\n",
       "      <td>-373.644027</td>\n",
       "      <td>70.458876</td>\n",
       "      <td>-714.626197</td>\n",
       "      <td>-56.560246</td>\n",
       "    </tr>\n",
       "    <tr>\n",
       "      <th>3</th>\n",
       "      <td>-321.167731</td>\n",
       "      <td>92.494747</td>\n",
       "      <td>-529.979032</td>\n",
       "      <td>-40.523680</td>\n",
       "    </tr>\n",
       "  </tbody>\n",
       "</table>\n",
       "</div>"
      ],
      "text/plain": [
       "                     mean        std        amin        amax\n",
       "0's among XYZ                                               \n",
       "0             -411.914279  37.728132 -621.518935 -169.906067\n",
       "1             -405.027457  51.577235 -605.451536 -115.730344\n",
       "2             -373.644027  70.458876 -714.626197  -56.560246\n",
       "3             -321.167731  92.494747 -529.979032  -40.523680"
      ]
     },
     "execution_count": 40,
     "metadata": {},
     "output_type": "execute_result"
    }
   ],
   "source": [
    "df.groupby(['0\\'s among XYZ'])['potential_energy'].agg([np.mean, np.std, np.min, \n",
    "                                            np.max])"
   ]
  },
  {
   "cell_type": "markdown",
   "metadata": {},
   "source": [
    "It seems that the higher the relative flatness of molecules under study, the lower the mean and median of potential energy."
   ]
  },
  {
   "cell_type": "markdown",
   "metadata": {},
   "source": [
    "You may use more than one column for grouping and use several columns of interest. Let's describe coordinates columns grouped by `centric_dipole_moment` and `distance_more_than_1A` columns:"
   ]
  },
  {
   "cell_type": "code",
   "execution_count": 41,
   "metadata": {},
   "outputs": [
    {
     "data": {
      "text/html": [
       "<div>\n",
       "<style scoped>\n",
       "    .dataframe tbody tr th:only-of-type {\n",
       "        vertical-align: middle;\n",
       "    }\n",
       "\n",
       "    .dataframe tbody tr th {\n",
       "        vertical-align: top;\n",
       "    }\n",
       "\n",
       "    .dataframe thead tr th {\n",
       "        text-align: left;\n",
       "    }\n",
       "\n",
       "    .dataframe thead tr:last-of-type th {\n",
       "        text-align: right;\n",
       "    }\n",
       "</style>\n",
       "<table border=\"1\" class=\"dataframe\">\n",
       "  <thead>\n",
       "    <tr>\n",
       "      <th></th>\n",
       "      <th></th>\n",
       "      <th colspan=\"8\" halign=\"left\">X</th>\n",
       "      <th colspan=\"5\" halign=\"left\">Y</th>\n",
       "      <th colspan=\"8\" halign=\"left\">Z</th>\n",
       "    </tr>\n",
       "    <tr>\n",
       "      <th></th>\n",
       "      <th></th>\n",
       "      <th>count</th>\n",
       "      <th>mean</th>\n",
       "      <th>std</th>\n",
       "      <th>min</th>\n",
       "      <th>25%</th>\n",
       "      <th>50%</th>\n",
       "      <th>75%</th>\n",
       "      <th>max</th>\n",
       "      <th>count</th>\n",
       "      <th>mean</th>\n",
       "      <th>...</th>\n",
       "      <th>75%</th>\n",
       "      <th>max</th>\n",
       "      <th>count</th>\n",
       "      <th>mean</th>\n",
       "      <th>std</th>\n",
       "      <th>min</th>\n",
       "      <th>25%</th>\n",
       "      <th>50%</th>\n",
       "      <th>75%</th>\n",
       "      <th>max</th>\n",
       "    </tr>\n",
       "    <tr>\n",
       "      <th>centric_dipole_moment</th>\n",
       "      <th>distance_more_than_1A</th>\n",
       "      <th></th>\n",
       "      <th></th>\n",
       "      <th></th>\n",
       "      <th></th>\n",
       "      <th></th>\n",
       "      <th></th>\n",
       "      <th></th>\n",
       "      <th></th>\n",
       "      <th></th>\n",
       "      <th></th>\n",
       "      <th></th>\n",
       "      <th></th>\n",
       "      <th></th>\n",
       "      <th></th>\n",
       "      <th></th>\n",
       "      <th></th>\n",
       "      <th></th>\n",
       "      <th></th>\n",
       "      <th></th>\n",
       "      <th></th>\n",
       "      <th></th>\n",
       "    </tr>\n",
       "  </thead>\n",
       "  <tbody>\n",
       "    <tr>\n",
       "      <th rowspan=\"2\" valign=\"top\">False</th>\n",
       "      <th>False</th>\n",
       "      <td>12130.0</td>\n",
       "      <td>-0.001103</td>\n",
       "      <td>0.399104</td>\n",
       "      <td>-0.997</td>\n",
       "      <td>-0.213</td>\n",
       "      <td>0.0</td>\n",
       "      <td>0.210</td>\n",
       "      <td>0.999</td>\n",
       "      <td>12130.0</td>\n",
       "      <td>0.010154</td>\n",
       "      <td>...</td>\n",
       "      <td>0.214</td>\n",
       "      <td>0.992</td>\n",
       "      <td>12130.0</td>\n",
       "      <td>0.038269</td>\n",
       "      <td>0.325390</td>\n",
       "      <td>-0.997</td>\n",
       "      <td>-0.09275</td>\n",
       "      <td>0.000</td>\n",
       "      <td>0.152</td>\n",
       "      <td>0.996</td>\n",
       "    </tr>\n",
       "    <tr>\n",
       "      <th>True</th>\n",
       "      <td>118570.0</td>\n",
       "      <td>-0.010058</td>\n",
       "      <td>2.405156</td>\n",
       "      <td>-22.958</td>\n",
       "      <td>-1.541</td>\n",
       "      <td>0.0</td>\n",
       "      <td>1.508</td>\n",
       "      <td>29.549</td>\n",
       "      <td>118570.0</td>\n",
       "      <td>0.100191</td>\n",
       "      <td>...</td>\n",
       "      <td>1.280</td>\n",
       "      <td>13.006</td>\n",
       "      <td>118570.0</td>\n",
       "      <td>0.274485</td>\n",
       "      <td>1.071895</td>\n",
       "      <td>-6.028</td>\n",
       "      <td>-0.30500</td>\n",
       "      <td>0.194</td>\n",
       "      <td>0.970</td>\n",
       "      <td>7.696</td>\n",
       "    </tr>\n",
       "    <tr>\n",
       "      <th>True</th>\n",
       "      <th>False</th>\n",
       "      <td>89.0</td>\n",
       "      <td>0.000000</td>\n",
       "      <td>0.000000</td>\n",
       "      <td>0.000</td>\n",
       "      <td>0.000</td>\n",
       "      <td>0.0</td>\n",
       "      <td>0.000</td>\n",
       "      <td>0.000</td>\n",
       "      <td>89.0</td>\n",
       "      <td>0.000000</td>\n",
       "      <td>...</td>\n",
       "      <td>0.000</td>\n",
       "      <td>0.000</td>\n",
       "      <td>89.0</td>\n",
       "      <td>0.000000</td>\n",
       "      <td>0.000000</td>\n",
       "      <td>0.000</td>\n",
       "      <td>0.00000</td>\n",
       "      <td>0.000</td>\n",
       "      <td>0.000</td>\n",
       "      <td>0.000</td>\n",
       "    </tr>\n",
       "  </tbody>\n",
       "</table>\n",
       "<p>3 rows × 24 columns</p>\n",
       "</div>"
      ],
      "text/plain": [
       "                                                    X                      \\\n",
       "                                                count      mean       std   \n",
       "centric_dipole_moment distance_more_than_1A                                 \n",
       "False                 False                   12130.0 -0.001103  0.399104   \n",
       "                      True                   118570.0 -0.010058  2.405156   \n",
       "True                  False                      89.0  0.000000  0.000000   \n",
       "\n",
       "                                                                        \\\n",
       "                                                min    25%  50%    75%   \n",
       "centric_dipole_moment distance_more_than_1A                              \n",
       "False                 False                  -0.997 -0.213  0.0  0.210   \n",
       "                      True                  -22.958 -1.541  0.0  1.508   \n",
       "True                  False                   0.000  0.000  0.0  0.000   \n",
       "\n",
       "                                                            Y            ...  \\\n",
       "                                                max     count      mean  ...   \n",
       "centric_dipole_moment distance_more_than_1A                              ...   \n",
       "False                 False                   0.999   12130.0  0.010154  ...   \n",
       "                      True                   29.549  118570.0  0.100191  ...   \n",
       "True                  False                   0.000      89.0  0.000000  ...   \n",
       "\n",
       "                                                                   Z  \\\n",
       "                                               75%     max     count   \n",
       "centric_dipole_moment distance_more_than_1A                            \n",
       "False                 False                  0.214   0.992   12130.0   \n",
       "                      True                   1.280  13.006  118570.0   \n",
       "True                  False                  0.000   0.000      89.0   \n",
       "\n",
       "                                                                        \\\n",
       "                                                 mean       std    min   \n",
       "centric_dipole_moment distance_more_than_1A                              \n",
       "False                 False                  0.038269  0.325390 -0.997   \n",
       "                      True                   0.274485  1.071895 -6.028   \n",
       "True                  False                  0.000000  0.000000  0.000   \n",
       "\n",
       "                                                                           \n",
       "                                                 25%    50%    75%    max  \n",
       "centric_dipole_moment distance_more_than_1A                                \n",
       "False                 False                 -0.09275  0.000  0.152  0.996  \n",
       "                      True                  -0.30500  0.194  0.970  7.696  \n",
       "True                  False                  0.00000  0.000  0.000  0.000  \n",
       "\n",
       "[3 rows x 24 columns]"
      ]
     },
     "execution_count": 41,
     "metadata": {},
     "output_type": "execute_result"
    }
   ],
   "source": [
    "df.groupby(['centric_dipole_moment', 'distance_more_than_1A'])[['X','Y','Z']].describe()"
   ]
  },
  {
   "cell_type": "markdown",
   "metadata": {},
   "source": [
    "Previously, we've filtered out molecules without isomers. Using `groupby` we can count the number of isomers for each `molecule_formula`:"
   ]
  },
  {
   "cell_type": "code",
   "execution_count": 42,
   "metadata": {},
   "outputs": [
    {
     "data": {
      "text/html": [
       "<div>\n",
       "<style scoped>\n",
       "    .dataframe tbody tr th:only-of-type {\n",
       "        vertical-align: middle;\n",
       "    }\n",
       "\n",
       "    .dataframe tbody tr th {\n",
       "        vertical-align: top;\n",
       "    }\n",
       "\n",
       "    .dataframe thead th {\n",
       "        text-align: right;\n",
       "    }\n",
       "</style>\n",
       "<table border=\"1\" class=\"dataframe\">\n",
       "  <thead>\n",
       "    <tr style=\"text-align: right;\">\n",
       "      <th></th>\n",
       "      <th>index</th>\n",
       "      <th>size</th>\n",
       "    </tr>\n",
       "  </thead>\n",
       "  <tbody>\n",
       "    <tr>\n",
       "      <th>0</th>\n",
       "      <td>C2H2</td>\n",
       "      <td>1</td>\n",
       "    </tr>\n",
       "    <tr>\n",
       "      <th>252</th>\n",
       "      <td>NC2H3</td>\n",
       "      <td>1</td>\n",
       "    </tr>\n",
       "    <tr>\n",
       "      <th>249</th>\n",
       "      <td>N6CH2</td>\n",
       "      <td>1</td>\n",
       "    </tr>\n",
       "    <tr>\n",
       "      <th>221</th>\n",
       "      <td>N4C4H10</td>\n",
       "      <td>1</td>\n",
       "    </tr>\n",
       "    <tr>\n",
       "      <th>209</th>\n",
       "      <td>N3C6H</td>\n",
       "      <td>1</td>\n",
       "    </tr>\n",
       "    <tr>\n",
       "      <th>...</th>\n",
       "      <td>...</td>\n",
       "      <td>...</td>\n",
       "    </tr>\n",
       "    <tr>\n",
       "      <th>480</th>\n",
       "      <td>OC8H12</td>\n",
       "      <td>4918</td>\n",
       "    </tr>\n",
       "    <tr>\n",
       "      <th>584</th>\n",
       "      <td>ONC7H9</td>\n",
       "      <td>5215</td>\n",
       "    </tr>\n",
       "    <tr>\n",
       "      <th>375</th>\n",
       "      <td>O2NC6H9</td>\n",
       "      <td>5630</td>\n",
       "    </tr>\n",
       "    <tr>\n",
       "      <th>578</th>\n",
       "      <td>ONC7H11</td>\n",
       "      <td>5858</td>\n",
       "    </tr>\n",
       "    <tr>\n",
       "      <th>311</th>\n",
       "      <td>O2C7H10</td>\n",
       "      <td>6094</td>\n",
       "    </tr>\n",
       "  </tbody>\n",
       "</table>\n",
       "<p>586 rows × 2 columns</p>\n",
       "</div>"
      ],
      "text/plain": [
       "       index  size\n",
       "0       C2H2     1\n",
       "252    NC2H3     1\n",
       "249    N6CH2     1\n",
       "221  N4C4H10     1\n",
       "209    N3C6H     1\n",
       "..       ...   ...\n",
       "480   OC8H12  4918\n",
       "584   ONC7H9  5215\n",
       "375  O2NC6H9  5630\n",
       "578  ONC7H11  5858\n",
       "311  O2C7H10  6094\n",
       "\n",
       "[586 rows x 2 columns]"
      ]
     },
     "execution_count": 42,
     "metadata": {},
     "output_type": "execute_result"
    }
   ],
   "source": [
    "df.groupby(df['molecule_formula'].tolist(),as_index=False).size().sort_values(by = ['size'])"
   ]
  },
  {
   "cell_type": "markdown",
   "metadata": {},
   "source": [
    "Yowza! It looks like O2C7H10 formula have more than 6K+ isomers in our dataset, considering all molecules in the dataset are unique"
   ]
  },
  {
   "cell_type": "markdown",
   "metadata": {},
   "source": [
    "## Summary tables "
   ]
  },
  {
   "cell_type": "markdown",
   "metadata": {},
   "source": [
    "The are several methods to build summary tables. One of them is using `pivot_table()` method. The method takes the following parameters:\n",
    "<ul>\n",
    "<li>values – a list of variables to calculate statistics for;\n",
    "<li>index – a list of variables to group data by;\n",
    "<li>aggfunc – what statistics we need to calculate for groups, ex. sum, mean, maximum, minimum or something else;\n",
    "</ul>"
   ]
  },
  {
   "cell_type": "markdown",
   "metadata": {},
   "source": [
    "In our example we'll use `XYZ` columns as values, `0\\'s among XYZ` column as index. We'll aggregate our table by median values:"
   ]
  },
  {
   "cell_type": "code",
   "execution_count": 43,
   "metadata": {},
   "outputs": [
    {
     "data": {
      "text/html": [
       "<div>\n",
       "<style scoped>\n",
       "    .dataframe tbody tr th:only-of-type {\n",
       "        vertical-align: middle;\n",
       "    }\n",
       "\n",
       "    .dataframe tbody tr th {\n",
       "        vertical-align: top;\n",
       "    }\n",
       "\n",
       "    .dataframe thead th {\n",
       "        text-align: right;\n",
       "    }\n",
       "</style>\n",
       "<table border=\"1\" class=\"dataframe\">\n",
       "  <thead>\n",
       "    <tr style=\"text-align: right;\">\n",
       "      <th></th>\n",
       "      <th>X</th>\n",
       "      <th>Y</th>\n",
       "      <th>Z</th>\n",
       "    </tr>\n",
       "    <tr>\n",
       "      <th>0's among XYZ</th>\n",
       "      <th></th>\n",
       "      <th></th>\n",
       "      <th></th>\n",
       "    </tr>\n",
       "  </thead>\n",
       "  <tbody>\n",
       "    <tr>\n",
       "      <th>0</th>\n",
       "      <td>-0.003</td>\n",
       "      <td>0.108</td>\n",
       "      <td>0.246</td>\n",
       "    </tr>\n",
       "    <tr>\n",
       "      <th>1</th>\n",
       "      <td>-0.000</td>\n",
       "      <td>0.000</td>\n",
       "      <td>0.000</td>\n",
       "    </tr>\n",
       "    <tr>\n",
       "      <th>2</th>\n",
       "      <td>0.000</td>\n",
       "      <td>-0.000</td>\n",
       "      <td>0.000</td>\n",
       "    </tr>\n",
       "    <tr>\n",
       "      <th>3</th>\n",
       "      <td>-0.000</td>\n",
       "      <td>0.000</td>\n",
       "      <td>0.000</td>\n",
       "    </tr>\n",
       "  </tbody>\n",
       "</table>\n",
       "</div>"
      ],
      "text/plain": [
       "                   X      Y      Z\n",
       "0's among XYZ                     \n",
       "0             -0.003  0.108  0.246\n",
       "1             -0.000  0.000  0.000\n",
       "2              0.000 -0.000  0.000\n",
       "3             -0.000  0.000  0.000"
      ]
     },
     "execution_count": 43,
     "metadata": {},
     "output_type": "execute_result"
    }
   ],
   "source": [
    "df.pivot_table(['X','Y','Z'],\n",
    "               ['0\\'s among XYZ'], aggfunc='median')"
   ]
  },
  {
   "cell_type": "markdown",
   "metadata": {},
   "source": [
    "This is quite interesting. For `0's among XYZ` values 1 and 2, all median values for all coordinates equal to zero. Let's compare that to the same pivot_table with mean as aggfunc"
   ]
  },
  {
   "cell_type": "code",
   "execution_count": 44,
   "metadata": {},
   "outputs": [
    {
     "data": {
      "text/html": [
       "<div>\n",
       "<style scoped>\n",
       "    .dataframe tbody tr th:only-of-type {\n",
       "        vertical-align: middle;\n",
       "    }\n",
       "\n",
       "    .dataframe tbody tr th {\n",
       "        vertical-align: top;\n",
       "    }\n",
       "\n",
       "    .dataframe thead th {\n",
       "        text-align: right;\n",
       "    }\n",
       "</style>\n",
       "<table border=\"1\" class=\"dataframe\">\n",
       "  <thead>\n",
       "    <tr style=\"text-align: right;\">\n",
       "      <th></th>\n",
       "      <th>X</th>\n",
       "      <th>Y</th>\n",
       "      <th>Z</th>\n",
       "    </tr>\n",
       "    <tr>\n",
       "      <th>0's among XYZ</th>\n",
       "      <th></th>\n",
       "      <th></th>\n",
       "      <th></th>\n",
       "    </tr>\n",
       "  </thead>\n",
       "  <tbody>\n",
       "    <tr>\n",
       "      <th>0</th>\n",
       "      <td>-0.009154</td>\n",
       "      <td>0.082544</td>\n",
       "      <td>0.276261</td>\n",
       "    </tr>\n",
       "    <tr>\n",
       "      <th>1</th>\n",
       "      <td>-0.003210</td>\n",
       "      <td>0.192893</td>\n",
       "      <td>0.045785</td>\n",
       "    </tr>\n",
       "    <tr>\n",
       "      <th>2</th>\n",
       "      <td>-0.109000</td>\n",
       "      <td>-0.109661</td>\n",
       "      <td>0.007171</td>\n",
       "    </tr>\n",
       "    <tr>\n",
       "      <th>3</th>\n",
       "      <td>0.000000</td>\n",
       "      <td>0.000000</td>\n",
       "      <td>0.000000</td>\n",
       "    </tr>\n",
       "  </tbody>\n",
       "</table>\n",
       "</div>"
      ],
      "text/plain": [
       "                      X         Y         Z\n",
       "0's among XYZ                              \n",
       "0             -0.009154  0.082544  0.276261\n",
       "1             -0.003210  0.192893  0.045785\n",
       "2             -0.109000 -0.109661  0.007171\n",
       "3              0.000000  0.000000  0.000000"
      ]
     },
     "execution_count": 44,
     "metadata": {},
     "output_type": "execute_result"
    }
   ],
   "source": [
    "df.pivot_table(['X','Y','Z'],\n",
    "               ['0\\'s among XYZ'], aggfunc='mean')"
   ]
  },
  {
   "cell_type": "markdown",
   "metadata": {},
   "source": [
    "You may see how different mean and median values are for our dataset"
   ]
  },
  {
   "cell_type": "markdown",
   "metadata": {},
   "source": [
    "Another way to build contingency summary tables is using `crosstab()` method. We can show the size of classes we investigate. This kind of table is most suitable for categorial and boolean features"
   ]
  },
  {
   "cell_type": "code",
   "execution_count": 45,
   "metadata": {},
   "outputs": [
    {
     "data": {
      "text/html": [
       "<div>\n",
       "<style scoped>\n",
       "    .dataframe tbody tr th:only-of-type {\n",
       "        vertical-align: middle;\n",
       "    }\n",
       "\n",
       "    .dataframe tbody tr th {\n",
       "        vertical-align: top;\n",
       "    }\n",
       "\n",
       "    .dataframe thead th {\n",
       "        text-align: right;\n",
       "    }\n",
       "</style>\n",
       "<table border=\"1\" class=\"dataframe\">\n",
       "  <thead>\n",
       "    <tr style=\"text-align: right;\">\n",
       "      <th>0's among XYZ</th>\n",
       "      <th>0</th>\n",
       "      <th>1</th>\n",
       "      <th>2</th>\n",
       "      <th>3</th>\n",
       "    </tr>\n",
       "    <tr>\n",
       "      <th>is_hydrocarbon</th>\n",
       "      <th></th>\n",
       "      <th></th>\n",
       "      <th></th>\n",
       "      <th></th>\n",
       "    </tr>\n",
       "  </thead>\n",
       "  <tbody>\n",
       "    <tr>\n",
       "      <th>False</th>\n",
       "      <td>113690</td>\n",
       "      <td>11547</td>\n",
       "      <td>620</td>\n",
       "      <td>42</td>\n",
       "    </tr>\n",
       "    <tr>\n",
       "      <th>True</th>\n",
       "      <td>3711</td>\n",
       "      <td>915</td>\n",
       "      <td>217</td>\n",
       "      <td>47</td>\n",
       "    </tr>\n",
       "  </tbody>\n",
       "</table>\n",
       "</div>"
      ],
      "text/plain": [
       "0's among XYZ        0      1    2   3\n",
       "is_hydrocarbon                        \n",
       "False           113690  11547  620  42\n",
       "True              3711    915  217  47"
      ]
     },
     "execution_count": 45,
     "metadata": {},
     "output_type": "execute_result"
    }
   ],
   "source": [
    "pd.crosstab(df['is_hydrocarbon'], df['0\\'s among XYZ'])"
   ]
  }
 ],
 "metadata": {
  "kernelspec": {
   "display_name": "Python 3",
   "language": "python",
   "name": "python3"
  },
  "language_info": {
   "codemirror_mode": {
    "name": "ipython",
    "version": 3
   },
   "file_extension": ".py",
   "mimetype": "text/x-python",
   "name": "python",
   "nbconvert_exporter": "python",
   "pygments_lexer": "ipython3",
   "version": "3.8.5"
  }
 },
 "nbformat": 4,
 "nbformat_minor": 4
}
