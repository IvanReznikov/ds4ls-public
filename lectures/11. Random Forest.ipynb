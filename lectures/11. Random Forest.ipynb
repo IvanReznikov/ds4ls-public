{
 "cells": [
  {
   "cell_type": "markdown",
   "metadata": {},
   "source": [
    "# Random Forest"
   ]
  },
  {
   "cell_type": "code",
   "execution_count": 1,
   "metadata": {},
   "outputs": [
    {
     "name": "stderr",
     "output_type": "stream",
     "text": [
      "RDKit WARNING: [11:12:39] Enabling RDKit 2019.09.1 jupyter extensions\n"
     ]
    }
   ],
   "source": [
    "import pandas as pd\n",
    "import numpy as np\n",
    "from matplotlib import pyplot as plt\n",
    "\n",
    "from rdkit import Chem\n",
    "from rdkit.Chem import Descriptors\n",
    "from rdkit.Chem import Draw\n",
    "from IPython.display import SVG\n",
    "\n",
    "from sklearn.model_selection import train_test_split, cross_val_score, GridSearchCV, cross_val_predict, StratifiedKFold\n",
    "from sklearn.ensemble import RandomForestRegressor, RandomForestClassifier\n",
    "from sklearn.ensemble import BaggingClassifier, BaggingRegressor\n",
    "from sklearn.tree import DecisionTreeRegressor, DecisionTreeClassifier\n",
    "from sklearn.metrics import mean_squared_error, mean_absolute_error, accuracy_score"
   ]
  },
  {
   "cell_type": "code",
   "execution_count": 2,
   "metadata": {},
   "outputs": [],
   "source": [
    "import json\n",
    "with open('../../course_config.json') as json_file:\n",
    "    CONFIG = json.load(json_file)"
   ]
  },
  {
   "cell_type": "code",
   "execution_count": 3,
   "metadata": {},
   "outputs": [],
   "source": [
    "import os, sys\n",
    "sys.path.append(os.path.abspath(CONFIG['utilities_path']))\n",
    "from feature_importance_utils import moltosvg"
   ]
  },
  {
   "cell_type": "markdown",
   "metadata": {},
   "source": [
    "### Intro to Dataset"
   ]
  },
  {
   "cell_type": "markdown",
   "metadata": {},
   "source": [
    "Today, we'll take a look in the chromofore compounds dataset, provided by the authors of the paper [*Experimental database of optical properties of organic compounds, 2020*](https://www.nature.com/articles/s41597-020-00634-8)"
   ]
  },
  {
   "cell_type": "code",
   "execution_count": 4,
   "metadata": {},
   "outputs": [
    {
     "data": {
      "text/html": [
       "<div>\n",
       "<style scoped>\n",
       "    .dataframe tbody tr th:only-of-type {\n",
       "        vertical-align: middle;\n",
       "    }\n",
       "\n",
       "    .dataframe tbody tr th {\n",
       "        vertical-align: top;\n",
       "    }\n",
       "\n",
       "    .dataframe thead th {\n",
       "        text-align: right;\n",
       "    }\n",
       "</style>\n",
       "<table border=\"1\" class=\"dataframe\">\n",
       "  <thead>\n",
       "    <tr style=\"text-align: right;\">\n",
       "      <th></th>\n",
       "      <th>Chromophore</th>\n",
       "      <th>Solvent</th>\n",
       "      <th>Absorption max (nm)</th>\n",
       "      <th>Emission max (nm)</th>\n",
       "      <th>Lifetime (ns)</th>\n",
       "      <th>Quantum yield</th>\n",
       "      <th>log(e/mol-1 dm3 cm-1)</th>\n",
       "      <th>abs FWHM (cm-1)</th>\n",
       "      <th>emi FWHM (cm-1)</th>\n",
       "      <th>abs FWHM (nm)</th>\n",
       "      <th>emi FWHM (nm)</th>\n",
       "      <th>Molecular weight (g mol-1)</th>\n",
       "      <th>Reference</th>\n",
       "    </tr>\n",
       "    <tr>\n",
       "      <th>Tag</th>\n",
       "      <th></th>\n",
       "      <th></th>\n",
       "      <th></th>\n",
       "      <th></th>\n",
       "      <th></th>\n",
       "      <th></th>\n",
       "      <th></th>\n",
       "      <th></th>\n",
       "      <th></th>\n",
       "      <th></th>\n",
       "      <th></th>\n",
       "      <th></th>\n",
       "      <th></th>\n",
       "    </tr>\n",
       "  </thead>\n",
       "  <tbody>\n",
       "    <tr>\n",
       "      <th>20232</th>\n",
       "      <td>N#Cc1c(N2CCCC2)cc(-c2ccccc2)c2c1C(=O)c1ccccc1-2</td>\n",
       "      <td>C1CCOC1</td>\n",
       "      <td>358.0</td>\n",
       "      <td>NaN</td>\n",
       "      <td>NaN</td>\n",
       "      <td>NaN</td>\n",
       "      <td>NaN</td>\n",
       "      <td>NaN</td>\n",
       "      <td>NaN</td>\n",
       "      <td>NaN</td>\n",
       "      <td>NaN</td>\n",
       "      <td>350.41992</td>\n",
       "      <td>DOI: 10.1021/ol9000679</td>\n",
       "    </tr>\n",
       "    <tr>\n",
       "      <th>20233</th>\n",
       "      <td>N#Cc1c(N2CCCCC2)cc(-c2ccccc2)c2c1C(=O)c1ccccc1-2</td>\n",
       "      <td>C1CCOC1</td>\n",
       "      <td>348.0</td>\n",
       "      <td>NaN</td>\n",
       "      <td>NaN</td>\n",
       "      <td>NaN</td>\n",
       "      <td>NaN</td>\n",
       "      <td>NaN</td>\n",
       "      <td>NaN</td>\n",
       "      <td>NaN</td>\n",
       "      <td>NaN</td>\n",
       "      <td>364.44680</td>\n",
       "      <td>DOI: 10.1021/ol9000679</td>\n",
       "    </tr>\n",
       "    <tr>\n",
       "      <th>20234</th>\n",
       "      <td>N#Cc1c(N2CCCCC2)cc(-c2cccc3ccccc23)c2c1C(=O)c1...</td>\n",
       "      <td>C1CCOC1</td>\n",
       "      <td>344.0</td>\n",
       "      <td>460.0</td>\n",
       "      <td>NaN</td>\n",
       "      <td>NaN</td>\n",
       "      <td>NaN</td>\n",
       "      <td>NaN</td>\n",
       "      <td>NaN</td>\n",
       "      <td>NaN</td>\n",
       "      <td>NaN</td>\n",
       "      <td>414.50668</td>\n",
       "      <td>DOI: 10.1021/ol9000679</td>\n",
       "    </tr>\n",
       "    <tr>\n",
       "      <th>20235</th>\n",
       "      <td>N#Cc1c(N2CCCCC2)cc(-c2ccc3ccccc3c2)c2c1C(=O)c1...</td>\n",
       "      <td>C1CCOC1</td>\n",
       "      <td>346.0</td>\n",
       "      <td>NaN</td>\n",
       "      <td>NaN</td>\n",
       "      <td>NaN</td>\n",
       "      <td>NaN</td>\n",
       "      <td>NaN</td>\n",
       "      <td>NaN</td>\n",
       "      <td>NaN</td>\n",
       "      <td>NaN</td>\n",
       "      <td>414.50668</td>\n",
       "      <td>DOI: 10.1021/ol9000679</td>\n",
       "    </tr>\n",
       "    <tr>\n",
       "      <th>20236</th>\n",
       "      <td>N#Cc1c(N2CCCCC2)cc(-c2ccc3ccc4cccc5ccc2c3c45)c...</td>\n",
       "      <td>C1CCOC1</td>\n",
       "      <td>344.0</td>\n",
       "      <td>473.0</td>\n",
       "      <td>NaN</td>\n",
       "      <td>NaN</td>\n",
       "      <td>NaN</td>\n",
       "      <td>NaN</td>\n",
       "      <td>NaN</td>\n",
       "      <td>NaN</td>\n",
       "      <td>NaN</td>\n",
       "      <td>488.58856</td>\n",
       "      <td>DOI: 10.1021/ol9000679</td>\n",
       "    </tr>\n",
       "  </tbody>\n",
       "</table>\n",
       "</div>"
      ],
      "text/plain": [
       "                                             Chromophore  Solvent  \\\n",
       "Tag                                                                 \n",
       "20232    N#Cc1c(N2CCCC2)cc(-c2ccccc2)c2c1C(=O)c1ccccc1-2  C1CCOC1   \n",
       "20233   N#Cc1c(N2CCCCC2)cc(-c2ccccc2)c2c1C(=O)c1ccccc1-2  C1CCOC1   \n",
       "20234  N#Cc1c(N2CCCCC2)cc(-c2cccc3ccccc23)c2c1C(=O)c1...  C1CCOC1   \n",
       "20235  N#Cc1c(N2CCCCC2)cc(-c2ccc3ccccc3c2)c2c1C(=O)c1...  C1CCOC1   \n",
       "20236  N#Cc1c(N2CCCCC2)cc(-c2ccc3ccc4cccc5ccc2c3c45)c...  C1CCOC1   \n",
       "\n",
       "       Absorption max (nm)  Emission max (nm)  Lifetime (ns)  Quantum yield  \\\n",
       "Tag                                                                           \n",
       "20232                358.0                NaN            NaN            NaN   \n",
       "20233                348.0                NaN            NaN            NaN   \n",
       "20234                344.0              460.0            NaN            NaN   \n",
       "20235                346.0                NaN            NaN            NaN   \n",
       "20236                344.0              473.0            NaN            NaN   \n",
       "\n",
       "       log(e/mol-1 dm3 cm-1)  abs FWHM (cm-1)  emi FWHM (cm-1)  abs FWHM (nm)  \\\n",
       "Tag                                                                             \n",
       "20232                    NaN              NaN              NaN            NaN   \n",
       "20233                    NaN              NaN              NaN            NaN   \n",
       "20234                    NaN              NaN              NaN            NaN   \n",
       "20235                    NaN              NaN              NaN            NaN   \n",
       "20236                    NaN              NaN              NaN            NaN   \n",
       "\n",
       "       emi FWHM (nm)  Molecular weight (g mol-1)               Reference  \n",
       "Tag                                                                       \n",
       "20232            NaN                   350.41992  DOI: 10.1021/ol9000679  \n",
       "20233            NaN                   364.44680  DOI: 10.1021/ol9000679  \n",
       "20234            NaN                   414.50668  DOI: 10.1021/ol9000679  \n",
       "20235            NaN                   414.50668  DOI: 10.1021/ol9000679  \n",
       "20236            NaN                   488.58856  DOI: 10.1021/ol9000679  "
      ]
     },
     "execution_count": 4,
     "metadata": {},
     "output_type": "execute_result"
    }
   ],
   "source": [
    "opt_df = pd.read_csv(CONFIG['dataset_path']+'DB for chromophore_Sci_Data_rev02.csv', index_col=0)\n",
    "opt_df.tail()"
   ]
  },
  {
   "cell_type": "markdown",
   "metadata": {},
   "source": [
    "In this dataset we can analyze Chromophore-Solvent pairs and their properties. We'll be using Absorption max (nm) feature as target during our regression studies.\n",
    "<br>We'll start with finding most popular chromophores:"
   ]
  },
  {
   "cell_type": "code",
   "execution_count": 5,
   "metadata": {},
   "outputs": [
    {
     "data": {
      "text/plain": [
       "[O-]c1c(-c2ccccc2)cc(-[n+]2c(-c3ccccc3)cc(-c3ccccc3)cc2-c2ccccc2)cc1-c1ccccc1    335\n",
       "COC(=O)C(Cc1ccc2oc(-c3ccc(Nc4ccccc4)cc3)nc2c1)NC(=O)OC(C)(C)C                     36\n",
       "COC(=O)C(Cc1ccc2oc(-c3ccc4c(c3)c3ccccc3n4-c3ccccc3)nc2c1)NC(=O)OC(C)(C)C          36\n",
       "COC(=O)C(Cc1ccc2oc(-c3ccc(N(C)C)cc3)nc2c1)NC(=O)OC(C)(C)C                         36\n",
       "COC(=O)C(Cc1ccc2oc(-c3ccc(N(C)c4ccccc4)cc3)nc2c1)NC(=O)OC(C)(C)C                  35\n",
       "Name: Chromophore, dtype: int64"
      ]
     },
     "execution_count": 5,
     "metadata": {},
     "output_type": "execute_result"
    }
   ],
   "source": [
    "opt_df['Chromophore'].value_counts()[:5]"
   ]
  },
  {
   "cell_type": "markdown",
   "metadata": {},
   "source": [
    "It seems that 2,6-Diphenyl-4-(2,4,6-triphenylpyridinio)phenolate *(yep, I google it...)* is the most described chromophore. We'll attempt to predict the target value depending on the properties of solvents. Formula of our chromofore is shown below:"
   ]
  },
  {
   "cell_type": "code",
   "execution_count": 6,
   "metadata": {},
   "outputs": [
    {
     "data": {
      "image/svg+xml": [
       "<svg xmlns=\"http://www.w3.org/2000/svg\" xmlns:rdkit=\"http://www.rdkit.org/xml\" xmlns:xlink=\"http://www.w3.org/1999/xlink\" version=\"1.1\" baseProfile=\"full\" xml:space=\"preserve\" width=\"300px\" height=\"300px\" viewBox=\"0 0 300 300\">\n",
       "<!-- END OF HEADER -->\n",
       "<rect style=\"opacity:1.0;fill:#FFFFFF;stroke:none\" width=\"300\" height=\"300\" x=\"0\" y=\"0\"> </rect>\n",
       "<path class=\"bond-0\" d=\"M 266.584,150 L 254.943,150\" style=\"fill:none;fill-rule:evenodd;stroke:#FF0000;stroke-width:2px;stroke-linecap:butt;stroke-linejoin:miter;stroke-opacity:1\"/>\n",
       "<path class=\"bond-0\" d=\"M 254.943,150 L 243.301,150\" style=\"fill:none;fill-rule:evenodd;stroke:#000000;stroke-width:2px;stroke-linecap:butt;stroke-linejoin:miter;stroke-opacity:1\"/>\n",
       "<path class=\"bond-1\" d=\"M 243.301,150 L 228.947,174.862\" style=\"fill:none;fill-rule:evenodd;stroke:#000000;stroke-width:2px;stroke-linecap:butt;stroke-linejoin:miter;stroke-opacity:1\"/>\n",
       "<path class=\"bond-1\" d=\"M 236.176,150.858 L 226.128,168.262\" style=\"fill:none;fill-rule:evenodd;stroke:#000000;stroke-width:2px;stroke-linecap:butt;stroke-linejoin:miter;stroke-opacity:1\"/>\n",
       "<path class=\"bond-42\" d=\"M 243.301,150 L 228.947,125.138\" style=\"fill:none;fill-rule:evenodd;stroke:#000000;stroke-width:2px;stroke-linecap:butt;stroke-linejoin:miter;stroke-opacity:1\"/>\n",
       "<path class=\"bond-2\" d=\"M 228.947,174.862 L 243.301,199.724\" style=\"fill:none;fill-rule:evenodd;stroke:#000000;stroke-width:2px;stroke-linecap:butt;stroke-linejoin:miter;stroke-opacity:1\"/>\n",
       "<path class=\"bond-8\" d=\"M 228.947,174.862 L 200.239,174.862\" style=\"fill:none;fill-rule:evenodd;stroke:#000000;stroke-width:2px;stroke-linecap:butt;stroke-linejoin:miter;stroke-opacity:1\"/>\n",
       "<path class=\"bond-3\" d=\"M 243.301,199.724 L 228.947,224.586\" style=\"fill:none;fill-rule:evenodd;stroke:#000000;stroke-width:2px;stroke-linecap:butt;stroke-linejoin:miter;stroke-opacity:1\"/>\n",
       "<path class=\"bond-3\" d=\"M 246.121,206.324 L 236.073,223.727\" style=\"fill:none;fill-rule:evenodd;stroke:#000000;stroke-width:2px;stroke-linecap:butt;stroke-linejoin:miter;stroke-opacity:1\"/>\n",
       "<path class=\"bond-44\" d=\"M 243.301,199.724 L 272.01,199.724\" style=\"fill:none;fill-rule:evenodd;stroke:#000000;stroke-width:2px;stroke-linecap:butt;stroke-linejoin:miter;stroke-opacity:1\"/>\n",
       "<path class=\"bond-4\" d=\"M 228.947,224.586 L 243.301,249.448\" style=\"fill:none;fill-rule:evenodd;stroke:#000000;stroke-width:2px;stroke-linecap:butt;stroke-linejoin:miter;stroke-opacity:1\"/>\n",
       "<path class=\"bond-5\" d=\"M 243.301,249.448 L 272.01,249.448\" style=\"fill:none;fill-rule:evenodd;stroke:#000000;stroke-width:2px;stroke-linecap:butt;stroke-linejoin:miter;stroke-opacity:1\"/>\n",
       "<path class=\"bond-5\" d=\"M 247.608,243.706 L 267.703,243.706\" style=\"fill:none;fill-rule:evenodd;stroke:#000000;stroke-width:2px;stroke-linecap:butt;stroke-linejoin:miter;stroke-opacity:1\"/>\n",
       "<path class=\"bond-6\" d=\"M 272.01,249.448 L 286.364,224.586\" style=\"fill:none;fill-rule:evenodd;stroke:#000000;stroke-width:2px;stroke-linecap:butt;stroke-linejoin:miter;stroke-opacity:1\"/>\n",
       "<path class=\"bond-7\" d=\"M 286.364,224.586 L 272.01,199.724\" style=\"fill:none;fill-rule:evenodd;stroke:#000000;stroke-width:2px;stroke-linecap:butt;stroke-linejoin:miter;stroke-opacity:1\"/>\n",
       "<path class=\"bond-7\" d=\"M 279.238,223.727 L 269.19,206.324\" style=\"fill:none;fill-rule:evenodd;stroke:#000000;stroke-width:2px;stroke-linecap:butt;stroke-linejoin:miter;stroke-opacity:1\"/>\n",
       "<path class=\"bond-9\" d=\"M 200.239,174.862 L 185.885,150\" style=\"fill:none;fill-rule:evenodd;stroke:#000000;stroke-width:2px;stroke-linecap:butt;stroke-linejoin:miter;stroke-opacity:1\"/>\n",
       "<path class=\"bond-9\" d=\"M 203.059,168.262 L 193.011,150.858\" style=\"fill:none;fill-rule:evenodd;stroke:#000000;stroke-width:2px;stroke-linecap:butt;stroke-linejoin:miter;stroke-opacity:1\"/>\n",
       "<path class=\"bond-10\" d=\"M 185.885,150 L 174.443,150\" style=\"fill:none;fill-rule:evenodd;stroke:#000000;stroke-width:2px;stroke-linecap:butt;stroke-linejoin:miter;stroke-opacity:1\"/>\n",
       "<path class=\"bond-10\" d=\"M 174.443,150 L 163.001,150\" style=\"fill:none;fill-rule:evenodd;stroke:#0000FF;stroke-width:2px;stroke-linecap:butt;stroke-linejoin:miter;stroke-opacity:1\"/>\n",
       "<path class=\"bond-34\" d=\"M 185.885,150 L 200.239,125.138\" style=\"fill:none;fill-rule:evenodd;stroke:#000000;stroke-width:2px;stroke-linecap:butt;stroke-linejoin:miter;stroke-opacity:1\"/>\n",
       "<path class=\"bond-11\" d=\"M 154.138,144.737 L 148.481,134.937\" style=\"fill:none;fill-rule:evenodd;stroke:#0000FF;stroke-width:2px;stroke-linecap:butt;stroke-linejoin:miter;stroke-opacity:1\"/>\n",
       "<path class=\"bond-11\" d=\"M 148.481,134.937 L 142.823,125.138\" style=\"fill:none;fill-rule:evenodd;stroke:#000000;stroke-width:2px;stroke-linecap:butt;stroke-linejoin:miter;stroke-opacity:1\"/>\n",
       "<path class=\"bond-45\" d=\"M 154.138,155.263 L 148.481,165.063\" style=\"fill:none;fill-rule:evenodd;stroke:#0000FF;stroke-width:2px;stroke-linecap:butt;stroke-linejoin:miter;stroke-opacity:1\"/>\n",
       "<path class=\"bond-45\" d=\"M 148.481,165.063 L 142.823,174.862\" style=\"fill:none;fill-rule:evenodd;stroke:#000000;stroke-width:2px;stroke-linecap:butt;stroke-linejoin:miter;stroke-opacity:1\"/>\n",
       "<path class=\"bond-45\" d=\"M 147.469,155.332 L 143.508,162.192\" style=\"fill:none;fill-rule:evenodd;stroke:#0000FF;stroke-width:2px;stroke-linecap:butt;stroke-linejoin:miter;stroke-opacity:1\"/>\n",
       "<path class=\"bond-45\" d=\"M 143.508,162.192 L 139.548,169.051\" style=\"fill:none;fill-rule:evenodd;stroke:#000000;stroke-width:2px;stroke-linecap:butt;stroke-linejoin:miter;stroke-opacity:1\"/>\n",
       "<path class=\"bond-12\" d=\"M 142.823,125.138 L 157.177,100.276\" style=\"fill:none;fill-rule:evenodd;stroke:#000000;stroke-width:2px;stroke-linecap:butt;stroke-linejoin:miter;stroke-opacity:1\"/>\n",
       "<path class=\"bond-18\" d=\"M 142.823,125.138 L 114.115,125.138\" style=\"fill:none;fill-rule:evenodd;stroke:#000000;stroke-width:2px;stroke-linecap:butt;stroke-linejoin:miter;stroke-opacity:1\"/>\n",
       "<path class=\"bond-18\" d=\"M 138.517,130.88 L 118.421,130.88\" style=\"fill:none;fill-rule:evenodd;stroke:#000000;stroke-width:2px;stroke-linecap:butt;stroke-linejoin:miter;stroke-opacity:1\"/>\n",
       "<path class=\"bond-13\" d=\"M 157.177,100.276 L 185.885,100.276\" style=\"fill:none;fill-rule:evenodd;stroke:#000000;stroke-width:2px;stroke-linecap:butt;stroke-linejoin:miter;stroke-opacity:1\"/>\n",
       "<path class=\"bond-13\" d=\"M 161.483,94.5344 L 181.579,94.5344\" style=\"fill:none;fill-rule:evenodd;stroke:#000000;stroke-width:2px;stroke-linecap:butt;stroke-linejoin:miter;stroke-opacity:1\"/>\n",
       "<path class=\"bond-47\" d=\"M 157.177,100.276 L 142.823,75.4141\" style=\"fill:none;fill-rule:evenodd;stroke:#000000;stroke-width:2px;stroke-linecap:butt;stroke-linejoin:miter;stroke-opacity:1\"/>\n",
       "<path class=\"bond-14\" d=\"M 185.885,100.276 L 200.239,75.4141\" style=\"fill:none;fill-rule:evenodd;stroke:#000000;stroke-width:2px;stroke-linecap:butt;stroke-linejoin:miter;stroke-opacity:1\"/>\n",
       "<path class=\"bond-15\" d=\"M 200.239,75.4141 L 185.885,50.5521\" style=\"fill:none;fill-rule:evenodd;stroke:#000000;stroke-width:2px;stroke-linecap:butt;stroke-linejoin:miter;stroke-opacity:1\"/>\n",
       "<path class=\"bond-15\" d=\"M 193.114,74.5556 L 183.066,57.1522\" style=\"fill:none;fill-rule:evenodd;stroke:#000000;stroke-width:2px;stroke-linecap:butt;stroke-linejoin:miter;stroke-opacity:1\"/>\n",
       "<path class=\"bond-16\" d=\"M 185.885,50.5521 L 157.177,50.5521\" style=\"fill:none;fill-rule:evenodd;stroke:#000000;stroke-width:2px;stroke-linecap:butt;stroke-linejoin:miter;stroke-opacity:1\"/>\n",
       "<path class=\"bond-17\" d=\"M 157.177,50.5521 L 142.823,75.4141\" style=\"fill:none;fill-rule:evenodd;stroke:#000000;stroke-width:2px;stroke-linecap:butt;stroke-linejoin:miter;stroke-opacity:1\"/>\n",
       "<path class=\"bond-17\" d=\"M 159.996,57.1522 L 149.948,74.5556\" style=\"fill:none;fill-rule:evenodd;stroke:#000000;stroke-width:2px;stroke-linecap:butt;stroke-linejoin:miter;stroke-opacity:1\"/>\n",
       "<path class=\"bond-19\" d=\"M 114.115,125.138 L 99.7608,150\" style=\"fill:none;fill-rule:evenodd;stroke:#000000;stroke-width:2px;stroke-linecap:butt;stroke-linejoin:miter;stroke-opacity:1\"/>\n",
       "<path class=\"bond-20\" d=\"M 99.7608,150 L 71.0526,150\" style=\"fill:none;fill-rule:evenodd;stroke:#000000;stroke-width:2px;stroke-linecap:butt;stroke-linejoin:miter;stroke-opacity:1\"/>\n",
       "<path class=\"bond-26\" d=\"M 99.7608,150 L 114.115,174.862\" style=\"fill:none;fill-rule:evenodd;stroke:#000000;stroke-width:2px;stroke-linecap:butt;stroke-linejoin:miter;stroke-opacity:1\"/>\n",
       "<path class=\"bond-26\" d=\"M 106.886,150.858 L 116.934,168.262\" style=\"fill:none;fill-rule:evenodd;stroke:#000000;stroke-width:2px;stroke-linecap:butt;stroke-linejoin:miter;stroke-opacity:1\"/>\n",
       "<path class=\"bond-21\" d=\"M 71.0526,150 L 56.6986,125.138\" style=\"fill:none;fill-rule:evenodd;stroke:#000000;stroke-width:2px;stroke-linecap:butt;stroke-linejoin:miter;stroke-opacity:1\"/>\n",
       "<path class=\"bond-21\" d=\"M 63.9271,149.142 L 53.8793,131.738\" style=\"fill:none;fill-rule:evenodd;stroke:#000000;stroke-width:2px;stroke-linecap:butt;stroke-linejoin:miter;stroke-opacity:1\"/>\n",
       "<path class=\"bond-48\" d=\"M 71.0526,150 L 56.6986,174.862\" style=\"fill:none;fill-rule:evenodd;stroke:#000000;stroke-width:2px;stroke-linecap:butt;stroke-linejoin:miter;stroke-opacity:1\"/>\n",
       "<path class=\"bond-22\" d=\"M 56.6986,125.138 L 27.9904,125.138\" style=\"fill:none;fill-rule:evenodd;stroke:#000000;stroke-width:2px;stroke-linecap:butt;stroke-linejoin:miter;stroke-opacity:1\"/>\n",
       "<path class=\"bond-23\" d=\"M 27.9904,125.138 L 13.6364,150\" style=\"fill:none;fill-rule:evenodd;stroke:#000000;stroke-width:2px;stroke-linecap:butt;stroke-linejoin:miter;stroke-opacity:1\"/>\n",
       "<path class=\"bond-23\" d=\"M 30.8097,131.738 L 20.7619,149.142\" style=\"fill:none;fill-rule:evenodd;stroke:#000000;stroke-width:2px;stroke-linecap:butt;stroke-linejoin:miter;stroke-opacity:1\"/>\n",
       "<path class=\"bond-24\" d=\"M 13.6364,150 L 27.9904,174.862\" style=\"fill:none;fill-rule:evenodd;stroke:#000000;stroke-width:2px;stroke-linecap:butt;stroke-linejoin:miter;stroke-opacity:1\"/>\n",
       "<path class=\"bond-25\" d=\"M 27.9904,174.862 L 56.6986,174.862\" style=\"fill:none;fill-rule:evenodd;stroke:#000000;stroke-width:2px;stroke-linecap:butt;stroke-linejoin:miter;stroke-opacity:1\"/>\n",
       "<path class=\"bond-25\" d=\"M 32.2967,169.12 L 52.3923,169.12\" style=\"fill:none;fill-rule:evenodd;stroke:#000000;stroke-width:2px;stroke-linecap:butt;stroke-linejoin:miter;stroke-opacity:1\"/>\n",
       "<path class=\"bond-27\" d=\"M 114.115,174.862 L 142.823,174.862\" style=\"fill:none;fill-rule:evenodd;stroke:#000000;stroke-width:2px;stroke-linecap:butt;stroke-linejoin:miter;stroke-opacity:1\"/>\n",
       "<path class=\"bond-28\" d=\"M 142.823,174.862 L 157.177,199.724\" style=\"fill:none;fill-rule:evenodd;stroke:#000000;stroke-width:2px;stroke-linecap:butt;stroke-linejoin:miter;stroke-opacity:1\"/>\n",
       "<path class=\"bond-29\" d=\"M 157.177,199.724 L 142.823,224.586\" style=\"fill:none;fill-rule:evenodd;stroke:#000000;stroke-width:2px;stroke-linecap:butt;stroke-linejoin:miter;stroke-opacity:1\"/>\n",
       "<path class=\"bond-29\" d=\"M 159.996,206.324 L 149.948,223.727\" style=\"fill:none;fill-rule:evenodd;stroke:#000000;stroke-width:2px;stroke-linecap:butt;stroke-linejoin:miter;stroke-opacity:1\"/>\n",
       "<path class=\"bond-46\" d=\"M 157.177,199.724 L 185.885,199.724\" style=\"fill:none;fill-rule:evenodd;stroke:#000000;stroke-width:2px;stroke-linecap:butt;stroke-linejoin:miter;stroke-opacity:1\"/>\n",
       "<path class=\"bond-30\" d=\"M 142.823,224.586 L 157.177,249.448\" style=\"fill:none;fill-rule:evenodd;stroke:#000000;stroke-width:2px;stroke-linecap:butt;stroke-linejoin:miter;stroke-opacity:1\"/>\n",
       "<path class=\"bond-31\" d=\"M 157.177,249.448 L 185.885,249.448\" style=\"fill:none;fill-rule:evenodd;stroke:#000000;stroke-width:2px;stroke-linecap:butt;stroke-linejoin:miter;stroke-opacity:1\"/>\n",
       "<path class=\"bond-31\" d=\"M 161.483,243.706 L 181.579,243.706\" style=\"fill:none;fill-rule:evenodd;stroke:#000000;stroke-width:2px;stroke-linecap:butt;stroke-linejoin:miter;stroke-opacity:1\"/>\n",
       "<path class=\"bond-32\" d=\"M 185.885,249.448 L 200.239,224.586\" style=\"fill:none;fill-rule:evenodd;stroke:#000000;stroke-width:2px;stroke-linecap:butt;stroke-linejoin:miter;stroke-opacity:1\"/>\n",
       "<path class=\"bond-33\" d=\"M 200.239,224.586 L 185.885,199.724\" style=\"fill:none;fill-rule:evenodd;stroke:#000000;stroke-width:2px;stroke-linecap:butt;stroke-linejoin:miter;stroke-opacity:1\"/>\n",
       "<path class=\"bond-33\" d=\"M 193.114,223.727 L 183.066,206.324\" style=\"fill:none;fill-rule:evenodd;stroke:#000000;stroke-width:2px;stroke-linecap:butt;stroke-linejoin:miter;stroke-opacity:1\"/>\n",
       "<path class=\"bond-35\" d=\"M 200.239,125.138 L 228.947,125.138\" style=\"fill:none;fill-rule:evenodd;stroke:#000000;stroke-width:2px;stroke-linecap:butt;stroke-linejoin:miter;stroke-opacity:1\"/>\n",
       "<path class=\"bond-35\" d=\"M 204.545,130.88 L 224.641,130.88\" style=\"fill:none;fill-rule:evenodd;stroke:#000000;stroke-width:2px;stroke-linecap:butt;stroke-linejoin:miter;stroke-opacity:1\"/>\n",
       "<path class=\"bond-36\" d=\"M 228.947,125.138 L 243.301,100.276\" style=\"fill:none;fill-rule:evenodd;stroke:#000000;stroke-width:2px;stroke-linecap:butt;stroke-linejoin:miter;stroke-opacity:1\"/>\n",
       "<path class=\"bond-37\" d=\"M 243.301,100.276 L 272.01,100.276\" style=\"fill:none;fill-rule:evenodd;stroke:#000000;stroke-width:2px;stroke-linecap:butt;stroke-linejoin:miter;stroke-opacity:1\"/>\n",
       "<path class=\"bond-37\" d=\"M 247.608,94.5344 L 267.703,94.5344\" style=\"fill:none;fill-rule:evenodd;stroke:#000000;stroke-width:2px;stroke-linecap:butt;stroke-linejoin:miter;stroke-opacity:1\"/>\n",
       "<path class=\"bond-43\" d=\"M 243.301,100.276 L 228.947,75.4141\" style=\"fill:none;fill-rule:evenodd;stroke:#000000;stroke-width:2px;stroke-linecap:butt;stroke-linejoin:miter;stroke-opacity:1\"/>\n",
       "<path class=\"bond-38\" d=\"M 272.01,100.276 L 286.364,75.4141\" style=\"fill:none;fill-rule:evenodd;stroke:#000000;stroke-width:2px;stroke-linecap:butt;stroke-linejoin:miter;stroke-opacity:1\"/>\n",
       "<path class=\"bond-39\" d=\"M 286.364,75.4141 L 272.01,50.5521\" style=\"fill:none;fill-rule:evenodd;stroke:#000000;stroke-width:2px;stroke-linecap:butt;stroke-linejoin:miter;stroke-opacity:1\"/>\n",
       "<path class=\"bond-39\" d=\"M 279.238,74.5556 L 269.19,57.1522\" style=\"fill:none;fill-rule:evenodd;stroke:#000000;stroke-width:2px;stroke-linecap:butt;stroke-linejoin:miter;stroke-opacity:1\"/>\n",
       "<path class=\"bond-40\" d=\"M 272.01,50.5521 L 243.301,50.5521\" style=\"fill:none;fill-rule:evenodd;stroke:#000000;stroke-width:2px;stroke-linecap:butt;stroke-linejoin:miter;stroke-opacity:1\"/>\n",
       "<path class=\"bond-41\" d=\"M 243.301,50.5521 L 228.947,75.4141\" style=\"fill:none;fill-rule:evenodd;stroke:#000000;stroke-width:2px;stroke-linecap:butt;stroke-linejoin:miter;stroke-opacity:1\"/>\n",
       "<path class=\"bond-41\" d=\"M 246.121,57.1522 L 236.073,74.5556\" style=\"fill:none;fill-rule:evenodd;stroke:#000000;stroke-width:2px;stroke-linecap:butt;stroke-linejoin:miter;stroke-opacity:1\"/>\n",
       "<text x=\"266.584\" y=\"155.263\" style=\"font-size:9px;font-style:normal;font-weight:normal;fill-opacity:1;stroke:none;font-family:sans-serif;text-anchor:start;fill:#FF0000\"><tspan>O</tspan><tspan style=\"baseline-shift:super;font-size:6.75px;\">-</tspan><tspan/></text>\n",
       "<text x=\"151.353\" y=\"155.263\" style=\"font-size:9px;font-style:normal;font-weight:normal;fill-opacity:1;stroke:none;font-family:sans-serif;text-anchor:start;fill:#0000FF\"><tspan>N</tspan><tspan style=\"baseline-shift:super;font-size:6.75px;\">+</tspan><tspan/></text>\n",
       "</svg>"
      ],
      "text/plain": [
       "<IPython.core.display.SVG object>"
      ]
     },
     "execution_count": 6,
     "metadata": {},
     "output_type": "execute_result"
    }
   ],
   "source": [
    "m = opt_df['Chromophore'].value_counts().keys()[0]\n",
    "SVG(moltosvg(Chem.MolFromSmiles(m)))"
   ]
  },
  {
   "cell_type": "code",
   "execution_count": 7,
   "metadata": {},
   "outputs": [
    {
     "data": {
      "text/html": [
       "<div>\n",
       "<style scoped>\n",
       "    .dataframe tbody tr th:only-of-type {\n",
       "        vertical-align: middle;\n",
       "    }\n",
       "\n",
       "    .dataframe tbody tr th {\n",
       "        vertical-align: top;\n",
       "    }\n",
       "\n",
       "    .dataframe thead th {\n",
       "        text-align: right;\n",
       "    }\n",
       "</style>\n",
       "<table border=\"1\" class=\"dataframe\">\n",
       "  <thead>\n",
       "    <tr style=\"text-align: right;\">\n",
       "      <th></th>\n",
       "      <th>Absorption max (nm)</th>\n",
       "      <th>Emission max (nm)</th>\n",
       "      <th>Lifetime (ns)</th>\n",
       "      <th>Quantum yield</th>\n",
       "      <th>log(e/mol-1 dm3 cm-1)</th>\n",
       "      <th>abs FWHM (cm-1)</th>\n",
       "      <th>emi FWHM (cm-1)</th>\n",
       "      <th>abs FWHM (nm)</th>\n",
       "      <th>emi FWHM (nm)</th>\n",
       "      <th>Molecular weight (g mol-1)</th>\n",
       "    </tr>\n",
       "  </thead>\n",
       "  <tbody>\n",
       "    <tr>\n",
       "      <th>count</th>\n",
       "      <td>335.000000</td>\n",
       "      <td>0.0</td>\n",
       "      <td>0.0</td>\n",
       "      <td>0.0</td>\n",
       "      <td>0.0</td>\n",
       "      <td>0.0</td>\n",
       "      <td>0.0</td>\n",
       "      <td>0.0</td>\n",
       "      <td>0.0</td>\n",
       "      <td>3.350000e+02</td>\n",
       "    </tr>\n",
       "    <tr>\n",
       "      <th>mean</th>\n",
       "      <td>695.760112</td>\n",
       "      <td>NaN</td>\n",
       "      <td>NaN</td>\n",
       "      <td>NaN</td>\n",
       "      <td>NaN</td>\n",
       "      <td>NaN</td>\n",
       "      <td>NaN</td>\n",
       "      <td>NaN</td>\n",
       "      <td>NaN</td>\n",
       "      <td>5.516873e+02</td>\n",
       "    </tr>\n",
       "    <tr>\n",
       "      <th>std</th>\n",
       "      <td>111.420637</td>\n",
       "      <td>NaN</td>\n",
       "      <td>NaN</td>\n",
       "      <td>NaN</td>\n",
       "      <td>NaN</td>\n",
       "      <td>NaN</td>\n",
       "      <td>NaN</td>\n",
       "      <td>NaN</td>\n",
       "      <td>NaN</td>\n",
       "      <td>1.138569e-13</td>\n",
       "    </tr>\n",
       "    <tr>\n",
       "      <th>min</th>\n",
       "      <td>437.840735</td>\n",
       "      <td>NaN</td>\n",
       "      <td>NaN</td>\n",
       "      <td>NaN</td>\n",
       "      <td>NaN</td>\n",
       "      <td>NaN</td>\n",
       "      <td>NaN</td>\n",
       "      <td>NaN</td>\n",
       "      <td>NaN</td>\n",
       "      <td>5.516873e+02</td>\n",
       "    </tr>\n",
       "    <tr>\n",
       "      <th>25%</th>\n",
       "      <td>603.828657</td>\n",
       "      <td>NaN</td>\n",
       "      <td>NaN</td>\n",
       "      <td>NaN</td>\n",
       "      <td>NaN</td>\n",
       "      <td>NaN</td>\n",
       "      <td>NaN</td>\n",
       "      <td>NaN</td>\n",
       "      <td>NaN</td>\n",
       "      <td>5.516873e+02</td>\n",
       "    </tr>\n",
       "    <tr>\n",
       "      <th>50%</th>\n",
       "      <td>699.046455</td>\n",
       "      <td>NaN</td>\n",
       "      <td>NaN</td>\n",
       "      <td>NaN</td>\n",
       "      <td>NaN</td>\n",
       "      <td>NaN</td>\n",
       "      <td>NaN</td>\n",
       "      <td>NaN</td>\n",
       "      <td>NaN</td>\n",
       "      <td>5.516873e+02</td>\n",
       "    </tr>\n",
       "    <tr>\n",
       "      <th>75%</th>\n",
       "      <td>774.823848</td>\n",
       "      <td>NaN</td>\n",
       "      <td>NaN</td>\n",
       "      <td>NaN</td>\n",
       "      <td>NaN</td>\n",
       "      <td>NaN</td>\n",
       "      <td>NaN</td>\n",
       "      <td>NaN</td>\n",
       "      <td>NaN</td>\n",
       "      <td>5.516873e+02</td>\n",
       "    </tr>\n",
       "    <tr>\n",
       "      <th>max</th>\n",
       "      <td>1055.018450</td>\n",
       "      <td>NaN</td>\n",
       "      <td>NaN</td>\n",
       "      <td>NaN</td>\n",
       "      <td>NaN</td>\n",
       "      <td>NaN</td>\n",
       "      <td>NaN</td>\n",
       "      <td>NaN</td>\n",
       "      <td>NaN</td>\n",
       "      <td>5.516873e+02</td>\n",
       "    </tr>\n",
       "  </tbody>\n",
       "</table>\n",
       "</div>"
      ],
      "text/plain": [
       "       Absorption max (nm)  Emission max (nm)  Lifetime (ns)  Quantum yield  \\\n",
       "count           335.000000                0.0            0.0            0.0   \n",
       "mean            695.760112                NaN            NaN            NaN   \n",
       "std             111.420637                NaN            NaN            NaN   \n",
       "min             437.840735                NaN            NaN            NaN   \n",
       "25%             603.828657                NaN            NaN            NaN   \n",
       "50%             699.046455                NaN            NaN            NaN   \n",
       "75%             774.823848                NaN            NaN            NaN   \n",
       "max            1055.018450                NaN            NaN            NaN   \n",
       "\n",
       "       log(e/mol-1 dm3 cm-1)  abs FWHM (cm-1)  emi FWHM (cm-1)  abs FWHM (nm)  \\\n",
       "count                    0.0              0.0              0.0            0.0   \n",
       "mean                     NaN              NaN              NaN            NaN   \n",
       "std                      NaN              NaN              NaN            NaN   \n",
       "min                      NaN              NaN              NaN            NaN   \n",
       "25%                      NaN              NaN              NaN            NaN   \n",
       "50%                      NaN              NaN              NaN            NaN   \n",
       "75%                      NaN              NaN              NaN            NaN   \n",
       "max                      NaN              NaN              NaN            NaN   \n",
       "\n",
       "       emi FWHM (nm)  Molecular weight (g mol-1)  \n",
       "count            0.0                3.350000e+02  \n",
       "mean             NaN                5.516873e+02  \n",
       "std              NaN                1.138569e-13  \n",
       "min              NaN                5.516873e+02  \n",
       "25%              NaN                5.516873e+02  \n",
       "50%              NaN                5.516873e+02  \n",
       "75%              NaN                5.516873e+02  \n",
       "max              NaN                5.516873e+02  "
      ]
     },
     "execution_count": 7,
     "metadata": {},
     "output_type": "execute_result"
    }
   ],
   "source": [
    "chrom_df = opt_df[opt_df['Chromophore'] == m]\n",
    "chrom_df.describe()"
   ]
  },
  {
   "cell_type": "markdown",
   "metadata": {},
   "source": [
    "As most of the properties are NaN, we'll build molecular descriptors for all solvents"
   ]
  },
  {
   "cell_type": "code",
   "execution_count": 8,
   "metadata": {},
   "outputs": [],
   "source": [
    "chrom_df = chrom_df[['Solvent', 'Absorption max (nm)']][1:].reset_index(drop=True)"
   ]
  },
  {
   "cell_type": "code",
   "execution_count": 9,
   "metadata": {},
   "outputs": [],
   "source": [
    "def init_mol_dictionary():\n",
    "    mol_dict = {}\n",
    "    mol_dict['C'], mol_dict['N'], mol_dict['O'], mol_dict['X'] = 0,0,0,0   \n",
    "    mol_dict['Cinring'], mol_dict['Ninring'], mol_dict['Oinring'], mol_dict['Xinring'] = 0,0,0,0\n",
    "    mol_dict['C1N'], mol_dict['C2N'], mol_dict['CarN'], mol_dict['C3N'] = 0,0,0,0\n",
    "    mol_dict['C1O'], mol_dict['C2O'], mol_dict['CarO'] = 0,0,0\n",
    "    mol_dict['N1O'], mol_dict['N2O'] = 0,0\n",
    "    mol_dict['C1C'], mol_dict['C2C'], mol_dict['CarC'], mol_dict['C3C'] = 0,0,0,0\n",
    "    mol_dict['N1N'], mol_dict['N2N'], mol_dict['NarN'], mol_dict['N3N'] = 0,0,0,0\n",
    "    mol_dict['O1O'] = 0\n",
    "    return mol_dict"
   ]
  },
  {
   "cell_type": "code",
   "execution_count": 10,
   "metadata": {},
   "outputs": [],
   "source": [
    "bond_order_dict={\n",
    "    Chem.BondType.SINGLE: '1',\n",
    "    Chem.BondType.DOUBLE: '2',\n",
    "    Chem.BondType.TRIPLE: '3',\n",
    "    Chem.BondType.AROMATIC: 'ar',\n",
    "}\n",
    "atom_priority_order = {\n",
    "    \"C\": 1,\n",
    "    \"N\": 2,\n",
    "    \"O\": 3\n",
    "}"
   ]
  },
  {
   "cell_type": "code",
   "execution_count": 11,
   "metadata": {},
   "outputs": [],
   "source": [
    "def get_mol_data(mol):\n",
    "    m_dict = init_mol_dictionary()\n",
    "    for i in range(mol.GetNumAtoms()):\n",
    "        atom = mol.GetAtomWithIdx(i)\n",
    "        if atom.GetSymbol() in m_dict: \n",
    "            m_dict[atom.GetSymbol()] += 1\n",
    "            m_dict[atom.GetSymbol()+'inring'] += 1 if atom.IsInRing() else 0\n",
    "            for neighbor in atom.GetNeighbors():\n",
    "                if neighbor.GetIdx() > i and neighbor.GetSymbol() in m_dict:\n",
    "                    if atom_priority_order[atom.GetSymbol()] < atom_priority_order[neighbor.GetSymbol()]:\n",
    "                        atom1, atom2 = atom.GetSymbol(), neighbor.GetSymbol()\n",
    "                    else:\n",
    "                        atom2, atom1 = atom.GetSymbol(), neighbor.GetSymbol()\n",
    "                    key = '{atom1}{bond_order}{atom2}'.format(atom1=atom1, atom2 = atom2,\n",
    "                            bond_order = bond_order_dict[mol.GetBondBetweenAtoms(i,neighbor.GetIdx()).GetBondType()])\n",
    "                    m_dict[key] +=1\n",
    "        else:\n",
    "            m_dict['X'] += 1\n",
    "            m_dict['Xinring'] += 1 if atom.IsInRing() else 0\n",
    "    return m_dict"
   ]
  },
  {
   "cell_type": "code",
   "execution_count": 12,
   "metadata": {},
   "outputs": [],
   "source": [
    "df_dict = {}\n",
    "for i, solv in enumerate(chrom_df['Solvent']):\n",
    "    df_dict[i] = get_mol_data(Chem.MolFromSmiles(solv))"
   ]
  },
  {
   "cell_type": "code",
   "execution_count": 13,
   "metadata": {},
   "outputs": [],
   "source": [
    "chrom_df = pd.concat([chrom_df, pd.DataFrame.from_dict(df_dict, orient='index')], axis=1)\n",
    "y = chrom_df['Absorption max (nm)']\n",
    "X = chrom_df.drop(['Solvent', 'Absorption max (nm)'], axis=1)"
   ]
  },
  {
   "cell_type": "code",
   "execution_count": 14,
   "metadata": {},
   "outputs": [],
   "source": [
    "X_train, X_test, y_train, y_test = train_test_split(X, y, test_size=0.33, random_state=42)"
   ]
  },
  {
   "cell_type": "markdown",
   "metadata": {},
   "source": [
    "### Comparing single tree, bagging and random forest for regression"
   ]
  },
  {
   "cell_type": "code",
   "execution_count": 15,
   "metadata": {},
   "outputs": [
    {
     "name": "stdout",
     "output_type": "stream",
     "text": [
      "Single decision tree regressor mse: 3858.2188989608862\n",
      "Bagging mse: 2671.4984421004206\n",
      "Random Forest mse: 2766.001130621972\n"
     ]
    }
   ],
   "source": [
    "# Single decision tree regressor\n",
    "dtree = DecisionTreeRegressor(random_state = 42).fit(X_train, y_train)\n",
    "d_predict = dtree.predict(X_test)\n",
    "print('Single decision tree regressor mse: {}'.format(mean_squared_error(y_test, d_predict)))\n",
    "\n",
    "# Bagging\n",
    "bdt = BaggingRegressor(DecisionTreeRegressor(), n_estimators=10, \n",
    "                       random_state=42).fit(X_train, y_train)\n",
    "bdt_predict = bdt.predict(X_test)\n",
    "print('Bagging mse: {}'.format(mean_squared_error(y_test, bdt_predict)))\n",
    "\n",
    "# Random Forest\n",
    "rf = RandomForestRegressor(n_estimators=10, random_state = 42).fit(X_train, y_train)\n",
    "rf_predict = rf.predict(X_test)\n",
    "print('Random Forest mse: {}'.format(mean_squared_error(y_test, rf_predict)))"
   ]
  },
  {
   "cell_type": "markdown",
   "metadata": {},
   "source": [
    "As one can see from the mse values, a random forest of 10 trees achieves much better result than a single decision tree and is quite comparable to bagging with the same number of trees. The main difference between random forests and bagging is in selecting features to split on:\n",
    "- in random forests, the best feature for a split is selected from a random subset of available features\n",
    "- in bagging all features are considered for the next best split.\n",
    "\n",
    "Todo: pic showing difference"
   ]
  },
  {
   "cell_type": "markdown",
   "metadata": {},
   "source": [
    "### Random Forest Regression"
   ]
  },
  {
   "cell_type": "markdown",
   "metadata": {},
   "source": [
    "The description of all RandomForestRegressor properties is given on the [sklearn website](https://scikit-learn.org/stable/modules/generated/sklearn.ensemble.RandomForestRegressor.html)\n",
    "<br>Among most important are (v.0.24.0):\n",
    "- `n_estimators` default=100 - the number of trees in the forest.\n",
    "- `criterion` default=”mse” - function to measure the quality of a split: “mse”, “mae”\n",
    "- `max_depth` default=None - the maximum depth of the tree. If None, then nodes are expanded until all leaves are pure or until all leaves contain less than min_samples_split samples.\n",
    "- `min_samples_split` default=2 - the minimum number of samples required to split an internal node. If int, then consider min_samples_split as the minimum number. If float, then min_samples_split is a fraction and ceil(min_samples_split * n_samples) are the minimum number of samples for each split.\n",
    "- `min_samples_leaf` default=1 - the minimum number of samples required to be at a leaf node. If int, then consider min_samples_leaf as the minimum number. If float, then min_samples_leaf is a fraction and ceil(min_samples_leaf * n_samples) are the minimum number of samples for each node.\n",
    "- `min_weight_fraction_leaf` default=0.0 - the minimum weighted fraction of the sum total of weights (of all the input samples) required to be at a leaf node. Samples have equal weight when sample_weight is not provided.\n",
    "- `max_features` default=”auto” - the number of features to consider when looking for the best split:\n",
    "    <br>- if int, then consider max_features features at each split.\n",
    "    <br>- if float, then max_features is a fraction and round(max_features * n_features) features are considered at each split.\n",
    "    <br>- if “auto”, then max_features=n_features.\n",
    "    <br>- if “sqrt”, then max_features=sqrt(n_features).\n",
    "    <br>- if “log2”, then max_features=log2(n_features).\n",
    "    <br>- if None, then max_features=n_features.\n",
    "    Note: the search for a split does not stop until at least one valid partition of the node samples is found, even if it requires to effectively inspect more than max_features features.\n",
    "- `warm_startbool` default=False - when set to True, reuse the solution of the previous call to fit and add more estimators to the ensemble, otherwise, just fit a whole new forest. \n",
    "- `max_samples` default=None - if bootstrap is True, the number of samples to draw from X to train each base estimator.\n",
    "    <br>- if None (default), then draw X.shape[0] samples.\n",
    "    <br>- if int, then draw max_samples samples.\n",
    "    <br>- if float, then draw max_samples * X.shape[0] samples. Thus, max_samples should be in the interval (0, 1).\n"
   ]
  },
  {
   "cell_type": "markdown",
   "metadata": {},
   "source": [
    "We'll vary `RandomForestRegressor` parameters with a `GridSearchCV`. This will automate our search on several folds. Of all features we'll look for best values of `max_depth` and `n_estimators`:"
   ]
  },
  {
   "cell_type": "code",
   "execution_count": 16,
   "metadata": {},
   "outputs": [],
   "source": [
    "def rfr_model(X, y):\n",
    "    gsc = GridSearchCV(\n",
    "        estimator=RandomForestRegressor(random_state = 42),\n",
    "        param_grid={\n",
    "            'max_depth': range(3,12),\n",
    "            'n_estimators': (10, 25, 50, 75, 100),\n",
    "            'max_features': ['auto', 'sqrt', 'log2'],\n",
    "            'oob_score': [True, False] \n",
    "        },\n",
    "        cv=10, scoring='neg_mean_squared_error', verbose=0,n_jobs=-1)\n",
    "    grid_result = gsc.fit(X, y)\n",
    "    best_params = grid_result.best_params_\n",
    "    rfr = RandomForestRegressor(max_depth=best_params[\"max_depth\"], n_estimators=best_params[\"n_estimators\"], \n",
    "                                random_state=42, verbose=False)\n",
    "    scores = cross_val_score(rfr, X, y, cv=5, scoring='neg_mean_squared_error')\n",
    "    return rfr, best_params, -np.mean(scores)"
   ]
  },
  {
   "cell_type": "code",
   "execution_count": 17,
   "metadata": {},
   "outputs": [
    {
     "name": "stdout",
     "output_type": "stream",
     "text": [
      "{'max_depth': 10, 'max_features': 'auto', 'n_estimators': 75, 'oob_score': True} 3460.623610272739\n"
     ]
    }
   ],
   "source": [
    "model, params, scores = rfr_model(X_train, y_train)\n",
    "print(params, scores)"
   ]
  },
  {
   "cell_type": "code",
   "execution_count": 18,
   "metadata": {},
   "outputs": [
    {
     "data": {
      "text/plain": [
       "3018.9580850422212"
      ]
     },
     "execution_count": 18,
     "metadata": {},
     "output_type": "execute_result"
    }
   ],
   "source": [
    "rf_predict = model.fit(X_train, y_train).predict(X_test)\n",
    "mean_squared_error(y_test, rf_predict)"
   ]
  },
  {
   "cell_type": "markdown",
   "metadata": {},
   "source": [
    "### Comparing single tree, bagging and random forest for classification"
   ]
  },
  {
   "cell_type": "markdown",
   "metadata": {},
   "source": [
    "For classification purposes we'll use the same dataset, but a bit differently. We've studied how solvent purposes influence the Absorption max (nm) property. Suppose, all other solvents don't form proper conditions with our chromophore. Let's see if we can build a suitable/unsuitable solvent classifier.\n",
    "<br>First, let's count the number of solvents we have and the number of suitable ones:"
   ]
  },
  {
   "cell_type": "code",
   "execution_count": 19,
   "metadata": {},
   "outputs": [
    {
     "data": {
      "text/plain": [
       "(1336, 334)"
      ]
     },
     "execution_count": 19,
     "metadata": {},
     "output_type": "execute_result"
    }
   ],
   "source": [
    "len(opt_df['Solvent'].unique()), len(chrom_df['Solvent'].unique())"
   ]
  },
  {
   "cell_type": "code",
   "execution_count": 20,
   "metadata": {},
   "outputs": [
    {
     "data": {
      "text/plain": [
       "0    1001\n",
       "1     334\n",
       "Name: target, dtype: int64"
      ]
     },
     "execution_count": 20,
     "metadata": {},
     "output_type": "execute_result"
    }
   ],
   "source": [
    "cl_df = pd.DataFrame()\n",
    "cl_df['Solvent'] = opt_df[opt_df['Solvent'] != 'gas']['Solvent'].unique()\n",
    "cl_df['target'] = 0 \n",
    "cl_df.loc[cl_df['Solvent'].isin(list(chrom_df['Solvent'].unique())), 'target'] = 1\n",
    "cl_df['target'].value_counts()"
   ]
  },
  {
   "cell_type": "code",
   "execution_count": 21,
   "metadata": {},
   "outputs": [],
   "source": [
    "df_dict = {}\n",
    "for i, solv in enumerate(cl_df['Solvent']):\n",
    "    df_dict[i] = get_mol_data(Chem.MolFromSmiles(solv))"
   ]
  },
  {
   "cell_type": "code",
   "execution_count": 22,
   "metadata": {},
   "outputs": [],
   "source": [
    "cl_df = pd.concat([cl_df, pd.DataFrame.from_dict(df_dict, orient='index')], axis=1)\n",
    "y = cl_df['target']\n",
    "X = cl_df.drop(['Solvent', 'target'], axis=1)"
   ]
  },
  {
   "cell_type": "code",
   "execution_count": 23,
   "metadata": {},
   "outputs": [],
   "source": [
    "X_train, X_test, y_train, y_test = train_test_split(X, y, test_size=0.33, random_state=42, stratify=y)"
   ]
  },
  {
   "cell_type": "code",
   "execution_count": 24,
   "metadata": {},
   "outputs": [
    {
     "name": "stdout",
     "output_type": "stream",
     "text": [
      "Single decision tree classifier accuracy: 0.963718820861678\n",
      "Bagging classifier accuracy: 0.9750566893424036\n",
      "Random forest classifier accuracy: 0.9750566893424036\n"
     ]
    }
   ],
   "source": [
    "dtree = DecisionTreeClassifier(random_state=42).fit(X_train, y_train)\n",
    "d_predict = dtree.predict(X_test)\n",
    "print('Single decision tree classifier accuracy: {}'.format(accuracy_score(y_test, d_predict)))\n",
    "\n",
    "bdt = BaggingClassifier(DecisionTreeClassifier(), n_estimators=10, random_state=42).fit(X_train, y_train)\n",
    "bdt_predict = bdt.predict(X_test)\n",
    "print('Bagging classifier accuracy: {}'.format(accuracy_score(y_test, bdt_predict)))\n",
    "\n",
    "rf = RandomForestClassifier(n_estimators=10, random_state=42).fit(X_train, y_train)\n",
    "rf_predict = bdt.predict(X_test)\n",
    "print('Random forest classifier accuracy: {}'.format(accuracy_score(y_test, rf_predict)))"
   ]
  },
  {
   "cell_type": "markdown",
   "metadata": {},
   "source": [
    "### Random Forest Classification"
   ]
  },
  {
   "cell_type": "markdown",
   "metadata": {},
   "source": [
    "params"
   ]
  },
  {
   "cell_type": "code",
   "execution_count": 25,
   "metadata": {},
   "outputs": [],
   "source": [
    "def rfc_model(X, y):\n",
    "    gsc = GridSearchCV(\n",
    "        estimator=RandomForestClassifier(random_state = 42),\n",
    "        param_grid={\n",
    "            'max_depth': range(3,12),\n",
    "            'n_estimators': (10, 25, 50, 75, 100),\n",
    "            'max_features': ['auto', 'sqrt', 'log2']\n",
    "        },\n",
    "        cv=10, scoring='accuracy', verbose=0,n_jobs=-1)\n",
    "    grid_result = gsc.fit(X, y)\n",
    "    best_params = grid_result.best_params_\n",
    "    rfc = RandomForestClassifier(max_depth=best_params[\"max_depth\"], n_estimators=best_params[\"n_estimators\"], \n",
    "                                random_state=42, verbose=False)\n",
    "    scores = cross_val_score(rfc, X, y, cv=5, scoring='accuracy')\n",
    "    return rfc, best_params, np.mean(scores)"
   ]
  },
  {
   "cell_type": "code",
   "execution_count": 26,
   "metadata": {},
   "outputs": [
    {
     "name": "stdout",
     "output_type": "stream",
     "text": [
      "{'max_depth': 7, 'max_features': 'auto', 'n_estimators': 10} 0.9832025610445043\n"
     ]
    }
   ],
   "source": [
    "model, params, scores = rfc_model(X_train, y_train)\n",
    "print(params, scores)"
   ]
  },
  {
   "cell_type": "code",
   "execution_count": 27,
   "metadata": {},
   "outputs": [
    {
     "data": {
      "text/plain": [
       "0.981859410430839"
      ]
     },
     "execution_count": 27,
     "metadata": {},
     "output_type": "execute_result"
    }
   ],
   "source": [
    "rf_predict = model.fit(X_train, y_train).predict(X_test)\n",
    "accuracy_score(y_test, rf_predict)"
   ]
  },
  {
   "cell_type": "code",
   "execution_count": 28,
   "metadata": {},
   "outputs": [
    {
     "name": "stdout",
     "output_type": "stream",
     "text": [
      "Best CV accuracy is 98.43% with 1 min_samples_leaf\n"
     ]
    }
   ],
   "source": [
    "# Initialize a stratified split of our dataset for the validation process\n",
    "skf = StratifiedKFold(n_splits=5, shuffle=True, random_state=42)\n",
    "\n",
    "# Create lists to save accuracy values on the training and test sets\n",
    "train_acc = []\n",
    "test_acc = []\n",
    "temp_train_acc = []\n",
    "temp_test_acc = []\n",
    "min_samples_leaf_grid = [1, 3, 5, 7, 9, 11, 13, 15, 17, 20, 22, 24]\n",
    "\n",
    "for min_samples_leaf in min_samples_leaf_grid:\n",
    "    rfc = RandomForestClassifier(n_estimators=75, max_depth=8, max_features='log2', random_state=42, n_jobs=-1, \n",
    "                                 min_samples_leaf=min_samples_leaf)\n",
    "    temp_train_acc = []\n",
    "    temp_test_acc = []\n",
    "    for train_index, test_index in skf.split(X, y):\n",
    "        X_train, X_test = X.iloc[train_index], X.iloc[test_index]\n",
    "        y_train, y_test = y[train_index], y[test_index]\n",
    "        rfc.fit(X_train, y_train)\n",
    "        temp_train_acc.append(rfc.score(X_train, y_train))\n",
    "        temp_test_acc.append(rfc.score(X_test, y_test))\n",
    "    train_acc.append(temp_train_acc)\n",
    "    test_acc.append(temp_test_acc)\n",
    "    \n",
    "train_acc, test_acc = np.asarray(train_acc), np.asarray(test_acc)\n",
    "print(\"Best CV accuracy is {:.2f}% with {} min_samples_leaf\".format(max(test_acc.mean(axis=1))*100, \n",
    "                                                        min_samples_leaf_grid[np.argmax(test_acc.mean(axis=1))]))"
   ]
  },
  {
   "cell_type": "code",
   "execution_count": 29,
   "metadata": {
    "scrolled": true
   },
   "outputs": [
    {
     "data": {
      "image/png": "[encoded data removed]",
      "text/plain": [
       "<Figure size 576x288 with 1 Axes>"
      ]
     },
     "metadata": {
      "needs_background": "light"
     },
     "output_type": "display_data"
    }
   ],
   "source": [
    "fig, ax = plt.subplots(figsize=(8, 4))\n",
    "ax.plot(min_samples_leaf_grid, train_acc.mean(axis=1), alpha=0.5, color='blue', label='train')\n",
    "ax.plot(min_samples_leaf_grid, test_acc.mean(axis=1), alpha=0.5, color='red', label='cv')\n",
    "ax.fill_between(min_samples_leaf_grid, test_acc.mean(axis=1) - test_acc.std(axis=1), \n",
    "                test_acc.mean(axis=1) + test_acc.std(axis=1), color='#888888', alpha=0.4)\n",
    "ax.fill_between(min_samples_leaf_grid, test_acc.mean(axis=1) - 2*test_acc.std(axis=1), \n",
    "                test_acc.mean(axis=1) + 2*test_acc.std(axis=1), color='#888888', alpha=0.2)\n",
    "ax.legend(loc='best')\n",
    "ax.set_ylim([0.96,1.0])\n",
    "ax.set_ylabel(\"Accuracy\")\n",
    "ax.set_xlabel(\"Min_samples_leaf\");\n",
    "plt.show()"
   ]
  },
  {
   "cell_type": "code",
   "execution_count": 30,
   "metadata": {},
   "outputs": [],
   "source": [
    "#todo: comapre individual tree and bagging\n",
    "#todo: classifier\n",
    "#todo morgan fingerprints"
   ]
  },
  {
   "cell_type": "code",
   "execution_count": 31,
   "metadata": {},
   "outputs": [
    {
     "data": {
      "text/plain": [
       "ClCCl        2562\n",
       "CC#N         2004\n",
       "Cc1ccccc1    1580\n",
       "C1CCOC1      1437\n",
       "ClC(Cl)Cl    1312\n",
       "Name: Solvent, dtype: int64"
      ]
     },
     "execution_count": 31,
     "metadata": {},
     "output_type": "execute_result"
    }
   ],
   "source": [
    "opt_df['Solvent'].value_counts()[:5]"
   ]
  },
  {
   "cell_type": "code",
   "execution_count": 32,
   "metadata": {},
   "outputs": [
    {
     "data": {
      "text/plain": [
       "1336"
      ]
     },
     "execution_count": 32,
     "metadata": {},
     "output_type": "execute_result"
    }
   ],
   "source": [
    "len(list(opt_df['Solvent'].unique()))"
   ]
  },
  {
   "cell_type": "markdown",
   "metadata": {},
   "source": [
    "A major disadvantage of random forests lies in their complexity. They required much more computational resources, owing to the large number of decision trees joined together.\n",
    "Due to their complexity, they require much more time to train than other comparable algorithms.\n"
   ]
  },
  {
   "cell_type": "markdown",
   "metadata": {},
   "source": [
    "# Appendix"
   ]
  },
  {
   "cell_type": "markdown",
   "metadata": {},
   "source": [
    "## Extremely Randomized Trees¶"
   ]
  },
  {
   "cell_type": "markdown",
   "metadata": {},
   "source": [
    "Extremely Randomized Trees employ a greater degree of randomization at the cut-point choice when splitting a tree node. As in random forests, a random subset of features is used. But, instead of the search for the optimal thresholds, their values are selected at random for each possible feature, and the best one among these randomly generated thresholds is used as the best rule to split the node. This usually trades off a slight reduction in the model variance with a small increase of the bias.\n",
    "\n",
    "In the scikit-learn library, there are 2 implementations of Extremely Randomized Trees: [ExtraTreesClassifier](http://scikit-learn.org/stable/modules/generated/sklearn.ensemble.ExtraTreesClassifier.html#sklearn.ensemble.ExtraTreesClassifier) and [ExtraTreesRegressor](http://scikit-learn.org/stable/modules/generated/sklearn.ensemble.ExtraTreesRegressor.html#sklearn.ensemble.ExtraTreesRegressor).\n",
    "\n",
    "This method should be used if you have greatly overfit with random forests or gradient boosting."
   ]
  },
  {
   "cell_type": "code",
   "execution_count": null,
   "metadata": {},
   "outputs": [],
   "source": []
  }
 ],
 "metadata": {
  "kernelspec": {
   "display_name": "Python 3",
   "language": "python",
   "name": "python3"
  },
  "language_info": {
   "codemirror_mode": {
    "name": "ipython",
    "version": 3
   },
   "file_extension": ".py",
   "mimetype": "text/x-python",
   "name": "python",
   "nbconvert_exporter": "python",
   "pygments_lexer": "ipython3",
   "version": "3.8.5"
  }
 },
 "nbformat": 4,
 "nbformat_minor": 2
}
